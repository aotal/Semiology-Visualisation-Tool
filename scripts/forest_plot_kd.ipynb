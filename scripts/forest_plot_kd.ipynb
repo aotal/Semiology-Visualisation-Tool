{
 "cells": [
  {
   "cell_type": "code",
   "execution_count": 52,
   "metadata": {},
   "outputs": [],
   "source": [
    "import pandas as pd\n",
    "import numpy as np\n",
    "import matplotlib.pyplot as plt\n",
    "import seaborn as sns\n",
    "import sys\n",
    "import os\n",
    "import yaml\n",
    "import copy \n",
    "from statsmodels.stats.proportion import multinomial_proportions_confint"
   ]
  },
  {
   "cell_type": "code",
   "execution_count": 2,
   "metadata": {},
   "outputs": [],
   "source": [
    "from mega_analysis.crosstab.mega_analysis.MEGA_ANALYSIS import MEGA_ANALYSIS\n",
    "from mega_analysis.crosstab.mega_analysis.QUERY_SEMIOLOGY import QUERY_SEMIOLOGY\n",
    "from mega_analysis.crosstab.file_paths import file_paths\n",
    "from mega_analysis.semiology import recursive_items"
   ]
  },
  {
   "cell_type": "code",
   "execution_count": 3,
   "metadata": {},
   "outputs": [],
   "source": [
    "repo_dir, resources_dir, excel_path, semiology_dict_path = file_paths()\n",
    "\n",
    "Semio2Brain_Database = r'/Volumes/Encrypted/Semiology-Visualisation-Tool/resources/__Semio2Brain Database v1.1.0.xlsx'\n",
    "\n",
    "with open(semiology_dict_path) as f:\n",
    "    SemioDict = yaml.load(f, Loader=yaml.FullLoader)"
   ]
  },
  {
   "cell_type": "code",
   "execution_count": 4,
   "metadata": {},
   "outputs": [],
   "source": [
    "(original_df, \n",
    "df_ground_truth, df_study_type,\n",
    "num_database_articles, num_database_patients, num_database_lat, num_database_loc) = \\\n",
    "                MEGA_ANALYSIS(Semio2Brain_Database)\n",
    "df = original_df.copy()"
   ]
  },
  {
   "cell_type": "code",
   "execution_count": 5,
   "metadata": {},
   "outputs": [],
   "source": [
    "semiology_list = list(recursive_items(SemioDict))"
   ]
  },
  {
   "cell_type": "code",
   "execution_count": 6,
   "metadata": {},
   "outputs": [],
   "source": [
    "semiology_query_results = {}\n",
    "for semiology in semiology_list:\n",
    "    query_inspection, num_query_lat, num_query_loc = QUERY_SEMIOLOGY(df,\n",
    "                                                                 semiology_term=semiology,\n",
    "                                                                 ignore_case=True,\n",
    "                                                                 semiology_dict_path=None,\n",
    "                                                                 all_columns_wanted = True)\n",
    "                                                                         # col1=col1, col2=col1)\n",
    "    one_query_result = {\n",
    "        'query_inspection': query_inspection,\n",
    "        'num_query_lat': num_query_lat,\n",
    "        'num_query_loc': num_query_loc\n",
    "    }\n",
    "    semiology_query_results[semiology] = one_query_result"
   ]
  },
  {
   "cell_type": "code",
   "execution_count": 7,
   "metadata": {},
   "outputs": [],
   "source": [
    "n_results = []\n",
    "for k, v in semiology_query_results.items():\n",
    "    n_results.append(v['num_query_loc'])\n",
    "n_results = np.array(n_results)\n",
    "top_10_semiologies = np.array(semiology_list)[(n_results>170)]"
   ]
  },
  {
   "cell_type": "code",
   "execution_count": 120,
   "metadata": {},
   "outputs": [],
   "source": [
    "regions_of_interest = ['Mesial Temporal',\n",
    "                         'Lateral Temporal',\n",
    "                         'Anterior (temporal pole)',\n",
    "                         'Posterior Temporal',\n",
    "                         'FL',\n",
    "                         'PL',\n",
    "                         'OL',\n",
    "                         'INSULA',\n",
    "                         'CING',\n",
    "                        ]\n",
    "regions_of_interest.sort()\n",
    "temporal_regions = ['Anterior (temporal pole)',\n",
    " 'Lateral Temporal',\n",
    " 'Mesial Temporal',\n",
    " 'Posterior Temporal']"
   ]
  },
  {
   "cell_type": "code",
   "execution_count": 42,
   "metadata": {},
   "outputs": [],
   "source": [
    "all_regions = \"\"\"TL\n",
    "Anterior (temporal pole)\n",
    "Lateral Temporal\n",
    "STG (includes Transverse Temporal Gyrus, Both Planum)\n",
    "Transverse Temporal Gyrus (Heschl's, BA 41,  42, ?opercula)\n",
    "Planum Temporale\n",
    "Planum Polare\n",
    "MTG\n",
    "ITG\n",
    "Mesial Temporal\n",
    "Ant Mesial Temporal\n",
    "Post Mesial Temporal\n",
    "Enthorinal Cortex\n",
    "Fusiform\n",
    "AMYGD\n",
    "PARAHIPPOCAMPUS\n",
    "HIPPOCAMPUS\n",
    "Posterior Temporal\n",
    "Basal (including Fusiform OTMG)\n",
    "OTMG (fusiform)\n",
    "FL\n",
    "frontal pole\n",
    "Pre-frontal (BA 8, 9, 10, 11, 12, 13, 14, 24, 25, 32, 44, 45, 46, 47)\n",
    "DL-PFC (BA 46) (include subgroups BA 9, 8, 10 - frontopolar/anterior prefrontal)\n",
    "gyrus rectus (basal = gyrus rectus and OFC)\n",
    "Orbito-frontal (BA 10, 11, 12/47) (basal = gyrus rectus and OFC)\n",
    "Post OF\n",
    "Lat OF\n",
    "Med OF\n",
    "Medial Frontal (include medial premotor and its constituents as its subsets)\n",
    "Primary Motor Cortex (Pre-central gyrus, BA 4, Rolandic)\n",
    "medial precentral\n",
    "Rolandic Operculum (low BA4)\n",
    "SFG (F1)\n",
    "Med SFG\n",
    "Post SFG\n",
    "Ant SFG\n",
    "MFG (F2)\n",
    "Ant MFG\n",
    "Mid MFG\n",
    "Post MFG\n",
    "Pars Triangularis (subgroup IFG)\n",
    "Pars opercularis (BA 44)(subgroup IFG, ?opercula)\n",
    "Premotor frontal (posterior frontal)\n",
    "Ant Premotor (BA 8, frontal-eye-fields)\n",
    "Medial Premotor (including pre SMA)\n",
    "SMA (pre-central gyrus; posterior SFG, MFG)\n",
    "SSMA\n",
    "CING\n",
    "Cingulum (WM)\n",
    "Ant Cing (frontal, genu)\n",
    "Dorsal Ant Cing (BA 32)\n",
    "Middle Cingulate\n",
    "Post Cing\n",
    "Isthmus\n",
    "PL\n",
    "Primary Sensory Cortex (post-central gyrus)\n",
    "medial anterior parietal\n",
    "Sup. pariet. lobule\n",
    "Precuneus (medial post sup parietal lobule)\n",
    "Inferior Parietal Lobule\n",
    "Supramarg gyrus (post part of parietal operculum)\n",
    "Angular gyrus (BA 39)\n",
    "parietal operculum (ceiling of secondary somatosensory cortex)\n",
    "OL\n",
    "Mesial Occipital\n",
    "Lingual gyrus  (medial and basal)\n",
    "Cuneus\n",
    "Lateral Occipital (SOG, IOG, LOG)\n",
    "Posterior Occipital Gyrus\n",
    "Superior Occipital Gyrus\n",
    "INSULA\n",
    "Ant Ins\n",
    "Anterior Short Gyrus\n",
    "Middle Short Gyrus\n",
    "Post short gyrus\n",
    "Precentral gyrus\n",
    "Postcentral gyrus\n",
    "Posterior long gyrus\n",
    "Hypothalamus\n",
    "Sub-Callosal Cortex\n",
    "Cerebellum\n",
    "Hemisphere\n",
    "Vermis\n",
    "FT\n",
    "TO\n",
    "TP\n",
    "FTP\n",
    "TPO Junction\n",
    "PO\n",
    "FP\n",
    "Perisylvian\"\"\".splitlines()\n",
    "\n",
    "all_regions += ['''IFG (F3)\n",
    "(BA 44,45,47)''',\n",
    "'''Lateral Premotor\n",
    "(BA 6)''',\n",
    "'''Pars orbitalis (subgroup of IFG)\n",
    "(BA 47)''']\n",
    "# '''Pars opercularis (BA 44)(subgroup IFG, ?opercula)'''"
   ]
  },
  {
   "cell_type": "code",
   "execution_count": 121,
   "metadata": {},
   "outputs": [],
   "source": [
    "other_regions = set(all_regions) - set(regions_of_interest)\n",
    "other_regions = list(other_regions)\n",
    "\n",
    "regions_of_interest_minus_temporal = set(regions_of_interest) - set(temporal_regions)\n",
    "regions_of_interest_minus_temporal = list(regions_of_interest_minus_temporal)"
   ]
  },
  {
   "cell_type": "code",
   "execution_count": 122,
   "metadata": {},
   "outputs": [],
   "source": [
    "region_names = {'of_interest': regions_of_interest,\n",
    "                'all': all_regions,\n",
    "                'all_other': other_regions,\n",
    "                'temporal': temporal_regions,\n",
    "                'minus_temporal': regions_of_interest_minus_temporal}"
   ]
  },
  {
   "cell_type": "code",
   "execution_count": null,
   "metadata": {},
   "outputs": [],
   "source": []
  },
  {
   "cell_type": "code",
   "execution_count": 87,
   "metadata": {},
   "outputs": [],
   "source": [
    "def get_proportions(values):\n",
    "    sum_values = np.sum(values)\n",
    "    proportions = [value/sum_values for value in values]\n",
    "    return proportions"
   ]
  },
  {
   "cell_type": "code",
   "execution_count": 88,
   "metadata": {},
   "outputs": [],
   "source": [
    "x = query_results[semiology]['query_inspection'][regions_of_interest]"
   ]
  },
  {
   "cell_type": "code",
   "execution_count": null,
   "metadata": {},
   "outputs": [],
   "source": []
  },
  {
   "cell_type": "code",
   "execution_count": null,
   "metadata": {},
   "outputs": [],
   "source": []
  },
  {
   "cell_type": "code",
   "execution_count": null,
   "metadata": {},
   "outputs": [],
   "source": []
  },
  {
   "cell_type": "code",
   "execution_count": 117,
   "metadata": {},
   "outputs": [
    {
     "data": {
      "text/plain": [
       "['Anterior (temporal pole)',\n",
       " 'CING',\n",
       " 'FL',\n",
       " 'INSULA',\n",
       " 'Lateral Temporal',\n",
       " 'Mesial Temporal',\n",
       " 'OL',\n",
       " 'PL',\n",
       " 'Posterior Temporal',\n",
       " 'All other']"
      ]
     },
     "execution_count": 117,
     "metadata": {},
     "output_type": "execute_result"
    }
   ],
   "source": [
    "region_names['of_interest']"
   ]
  },
  {
   "cell_type": "code",
   "execution_count": 135,
   "metadata": {},
   "outputs": [],
   "source": [
    "def calculate_proportions_and_ci(query_results, region_names, other_included = False, merge_temporal = False):\n",
    "    region_names_update = copy.deepcopy(region_names['of_interest'])\n",
    "    if merge_temporal:\n",
    "        region_names_update = region_names['minus_temporal'] + ['Temporal']\n",
    "    if other_included:\n",
    "        region_names_update += ['All other']\n",
    "    \n",
    "    for semiology, value in query_results.items():\n",
    "        query_inspection = query_results[semiology]['query_inspection']\n",
    "        if merge_temporal == False:\n",
    "            by_zone = np.array(query_inspection[region_names['of_interest']].sum(0))\n",
    "        else:\n",
    "            by_zone = np.array(query_inspection[region_names['minus_temporal']].sum(0))\n",
    "            temporal_sum = query_inspection[region_names['temporal']].sum().sum()\n",
    "            by_zone = np.append(by_zone, temporal_sum)\n",
    "            \n",
    "        if other_included:\n",
    "            all_other_zones = query_inspection[region_names['all_other']].sum(0).sum()\n",
    "            by_zone = np.append(by_zone, all_other_zones)\n",
    "            \n",
    "        proportions = get_proportions(by_zone)\n",
    "        confint = multinomial_proportions_confint(by_zone)\n",
    "        ci = confint[:,1] - confint[:,0]\n",
    "\n",
    "        query_results[semiology]['by_zone'] = by_zone\n",
    "        query_results[semiology]['proportions'] = proportions\n",
    "        query_results[semiology]['confint'] = confint\n",
    "        query_results[semiology]['ci'] = ci\n",
    "        query_results[semiology]['semiology_name'] = semiology\n",
    "        query_results[semiology]['region_names'] = region_names_update\n",
    "\n",
    "    return query_results"
   ]
  },
  {
   "cell_type": "code",
   "execution_count": 124,
   "metadata": {},
   "outputs": [
    {
     "name": "stderr",
     "output_type": "stream",
     "text": [
      "<ipython-input-87-94f6c7b79efe>:3: RuntimeWarning: invalid value encountered in double_scalars\n",
      "  proportions = [value/sum_values for value in values]\n"
     ]
    }
   ],
   "source": [
    "standard_qr = copy.deepcopy(semiology_query_results)\n",
    "standard_qr = calculate_proportions_and_ci(standard_qr, region_names, other_included = False, merge_temporal = False, )"
   ]
  },
  {
   "cell_type": "code",
   "execution_count": 128,
   "metadata": {},
   "outputs": [
    {
     "name": "stderr",
     "output_type": "stream",
     "text": [
      "<ipython-input-87-94f6c7b79efe>:3: RuntimeWarning: invalid value encountered in double_scalars\n",
      "  proportions = [value/sum_values for value in values]\n"
     ]
    }
   ],
   "source": [
    "other_qr = copy.deepcopy(semiology_query_results)\n",
    "other_qr = calculate_proportions_and_ci(other_qr, region_names, other_included = True, merge_temporal = False)"
   ]
  },
  {
   "cell_type": "code",
   "execution_count": 136,
   "metadata": {},
   "outputs": [
    {
     "name": "stderr",
     "output_type": "stream",
     "text": [
      "<ipython-input-87-94f6c7b79efe>:3: RuntimeWarning: invalid value encountered in double_scalars\n",
      "  proportions = [value/sum_values for value in values]\n",
      "/Users/karan/anaconda3/envs/semiology-vis/lib/python3.9/site-packages/statsmodels/stats/proportion.py:257: RuntimeWarning: invalid value encountered in true_divide\n",
      "  proportions = counts / n\n"
     ]
    }
   ],
   "source": [
    "temporal_other_qr = copy.deepcopy(semiology_query_results)\n",
    "temporal_other_qr = calculate_proportions_and_ci(temporal_other_qr, region_names, other_included = True, merge_temporal=True)"
   ]
  },
  {
   "cell_type": "code",
   "execution_count": 137,
   "metadata": {},
   "outputs": [
    {
     "data": {
      "text/plain": [
       "['CING', 'FL', 'OL', 'INSULA', 'PL', 'Temporal', 'All other']"
      ]
     },
     "execution_count": 137,
     "metadata": {},
     "output_type": "execute_result"
    }
   ],
   "source": [
    "temporal_other_qr['Fear-Anxiety']['region_names']"
   ]
  },
  {
   "cell_type": "code",
   "execution_count": 45,
   "metadata": {},
   "outputs": [
    {
     "name": "stderr",
     "output_type": "stream",
     "text": [
      "<ipython-input-44-94f6c7b79efe>:3: RuntimeWarning: invalid value encountered in double_scalars\n",
      "  proportions = [value/sum_values for value in values]\n"
     ]
    }
   ],
   "source": [
    "query_results = semiology_query_results.copy()\n",
    "\n",
    "for semiology, value in query_results.items():\n",
    "    query_inspection = query_results[semiology]['query_inspection']\n",
    "    by_zone = np.array(query_inspection[regions_of_interest].sum(0))\n",
    "\n",
    "    proportions = get_proportions(by_zone)\n",
    "    confint = multinomial_proportions_confint(by_zone)\n",
    "    ci = confint[:,1] - confint[:,0]\n",
    "    regions = regions_of_interest\n",
    "\n",
    "    query_results[semiology]['by_zone'] = by_zone\n",
    "    query_results[semiology]['proportions'] = proportions\n",
    "    query_results[semiology]['confint'] = confint\n",
    "    query_results[semiology]['ci'] = ci\n",
    "    query_results[semiology]['semiology_name'] = semiology\n",
    "    query_results[semiology]['region_names'] = regions"
   ]
  },
  {
   "cell_type": "code",
   "execution_count": 48,
   "metadata": {},
   "outputs": [
    {
     "data": {
      "text/plain": [
       "['Anterior (temporal pole)',\n",
       " 'CING',\n",
       " 'FL',\n",
       " 'INSULA',\n",
       " 'Lateral Temporal',\n",
       " 'Mesial Temporal',\n",
       " 'OL',\n",
       " 'PL',\n",
       " 'Posterior Temporal',\n",
       " 'All other']"
      ]
     },
     "execution_count": 48,
     "metadata": {},
     "output_type": "execute_result"
    }
   ],
   "source": [
    "query_results['Epigastric']['region_names']"
   ]
  },
  {
   "cell_type": "code",
   "execution_count": 50,
   "metadata": {},
   "outputs": [
    {
     "data": {
      "text/plain": [
       "5288374592"
      ]
     },
     "execution_count": 50,
     "metadata": {},
     "output_type": "execute_result"
    }
   ],
   "source": [
    "id(query_results_all_other)"
   ]
  },
  {
   "cell_type": "code",
   "execution_count": 51,
   "metadata": {},
   "outputs": [
    {
     "data": {
      "text/plain": [
       "5287702976"
      ]
     },
     "execution_count": 51,
     "metadata": {},
     "output_type": "execute_result"
    }
   ],
   "source": [
    "id(query_results)"
   ]
  },
  {
   "cell_type": "code",
   "execution_count": 47,
   "metadata": {},
   "outputs": [
    {
     "name": "stderr",
     "output_type": "stream",
     "text": [
      "<ipython-input-44-94f6c7b79efe>:3: RuntimeWarning: invalid value encountered in double_scalars\n",
      "  proportions = [value/sum_values for value in values]\n"
     ]
    }
   ],
   "source": [
    "query_results_all_other = semiology_query_results.copy()\n",
    "\n",
    "for semiology, value in query_results_all_other.items():\n",
    "    query_inspection = query_results_all_other[semiology]['query_inspection']\n",
    "    by_zone = np.array(query_inspection[regions_of_interest].sum(0))\n",
    "\n",
    "    proportions = get_proportions(by_zone)\n",
    "    confint = multinomial_proportions_confint(by_zone)\n",
    "    ci = confint[:,1] - confint[:,0]\n",
    "    regions = regions_of_interest\n",
    "    all_other_zones = query_inspection[other_regions].sum(0).sum()\n",
    "    by_zone = np.append(by_zone, all_other_zones)\n",
    "    regions = regions_of_interest + ['All other']\n",
    "\n",
    "    query_results_all_other[semiology]['by_zone'] = by_zone\n",
    "    query_results_all_other[semiology]['proportions'] = proportions\n",
    "    query_results_all_other[semiology]['confint'] = confint\n",
    "    query_results_all_other[semiology]['ci'] = ci\n",
    "    query_results_all_other[semiology]['semiology_name'] = semiology\n",
    "    query_results_all_other[semiology]['region_names'] = regions\n"
   ]
  },
  {
   "cell_type": "code",
   "execution_count": 40,
   "metadata": {},
   "outputs": [
    {
     "data": {
      "text/plain": [
       "['Anterior (temporal pole)',\n",
       " 'CING',\n",
       " 'FL',\n",
       " 'INSULA',\n",
       " 'Lateral Temporal',\n",
       " 'Lateral Temporal',\n",
       " 'Mesial Temporal',\n",
       " 'OL',\n",
       " 'PL',\n",
       " 'Posterior Temporal',\n",
       " 'All other']"
      ]
     },
     "execution_count": 40,
     "metadata": {},
     "output_type": "execute_result"
    }
   ],
   "source": [
    "query_results_all_other['Fear-Anxiety']['region_names']"
   ]
  },
  {
   "cell_type": "code",
   "execution_count": 33,
   "metadata": {},
   "outputs": [
    {
     "data": {
      "text/plain": [
       "array([ 5.,  2.,  9.,  3.,  0.,  0.,  6.,  3.,  1.,  1., 50.])"
      ]
     },
     "execution_count": 33,
     "metadata": {},
     "output_type": "execute_result"
    }
   ],
   "source": [
    "by_zone"
   ]
  },
  {
   "cell_type": "code",
   "execution_count": 32,
   "metadata": {},
   "outputs": [
    {
     "name": "stderr",
     "output_type": "stream",
     "text": [
      "<ipython-input-24-94f6c7b79efe>:3: RuntimeWarning: invalid value encountered in double_scalars\n",
      "  proportions = [value/sum_values for value in values]\n"
     ]
    }
   ],
   "source": [
    "query_results_temporal_group = semiology_query_results.copy()\n",
    "\n",
    "for semiology, value in query_results_all_other.items():\n",
    "    query_inspection = query_results_all_other[semiology]['query_inspection']\n",
    "\n",
    "    by_zone = np.array(query_inspection[regions_of_interest].sum(0))\n",
    "    \n",
    "    proportions = get_proportions(by_zone)\n",
    "    confint = multinomial_proportions_confint(by_zone)\n",
    "    ci = confint[:,1] - confint[:,0]\n",
    "    regions = regions_of_interest\n",
    "    all_other_zones = query_inspection[other_regions].sum(0).sum()\n",
    "    by_zone = np.append(by_zone, all_other_zones)\n",
    "    regions = regions_of_interest + ['All other']\n",
    "\n",
    "    query_results_all_other[semiology]['by_zone'] = by_zone\n",
    "    query_results_all_other[semiology]['proportions'] = proportions\n",
    "    query_results_all_other[semiology]['confint'] = confint\n",
    "    query_results_all_other[semiology]['ci'] = ci\n",
    "    query_results_all_other[semiology]['semiology_name'] = semiology\n",
    "    query_results_all_other[semiology]['region_names'] = regions"
   ]
  },
  {
   "cell_type": "code",
   "execution_count": 15,
   "metadata": {},
   "outputs": [
    {
     "name": "stderr",
     "output_type": "stream",
     "text": [
      "<ipython-input-11-94f6c7b79efe>:3: RuntimeWarning: invalid value encountered in double_scalars\n",
      "  proportions = [value/sum_values for value in values]\n"
     ]
    }
   ],
   "source": [
    "def calculate_proportions_and_ci(query_results, regions=regions_of_interest, other_included = False):\n",
    "    for semiology, value in query_results.items():\n",
    "        query_inspection = query_results[semiology]['query_inspection']\n",
    "        by_zone = np.array(query_inspection[regions_of_interest].sum(0))\n",
    "        \n",
    "        if other_included:\n",
    "            all_other_zones = query_inspection[other_regions].sum(0).sum()\n",
    "            by_zone = np.append(by_zone, all_other_zones)\n",
    "            regions = regions + ['All other']\n",
    "            \n",
    "        proportions = get_proportions(by_zone)\n",
    "        confint = multinomial_proportions_confint(by_zone)\n",
    "        ci = confint[:,1] - confint[:,0]\n",
    "\n",
    "        query_results[semiology]['by_zone'] = by_zone\n",
    "        query_results[semiology]['proportions'] = proportions\n",
    "        query_results[semiology]['confint'] = confint\n",
    "        query_results[semiology]['ci'] = ci\n",
    "        query_results[semiology]['semiology_name'] = semiology\n",
    "        query_results[semiology]['region_names'] = regions\n",
    "\n",
    "    return query_results"
   ]
  },
  {
   "cell_type": "code",
   "execution_count": null,
   "metadata": {},
   "outputs": [],
   "source": []
  },
  {
   "cell_type": "code",
   "execution_count": null,
   "metadata": {},
   "outputs": [],
   "source": []
  },
  {
   "cell_type": "code",
   "execution_count": null,
   "metadata": {},
   "outputs": [],
   "source": []
  },
  {
   "cell_type": "code",
   "execution_count": 139,
   "metadata": {},
   "outputs": [],
   "source": [
    "sns.set_style(\"white\")"
   ]
  },
  {
   "cell_type": "code",
   "execution_count": 144,
   "metadata": {},
   "outputs": [
    {
     "data": {
      "text/plain": [
       "<matplotlib.collections.LineCollection at 0x13e9910a0>"
      ]
     },
     "execution_count": 144,
     "metadata": {},
     "output_type": "execute_result"
    },
    {
     "data": {
      "image/png": "[encoded data removed]",
      "text/plain": [
       "<Figure size 720x720 with 9 Axes>"
      ]
     },
     "metadata": {},
     "output_type": "display_data"
    }
   ],
   "source": [
    "def plot_semiology(query_result, ax=None):\n",
    "    x = query_result['proportions']\n",
    "    y = query_result['region_names']\n",
    "    xerr = query_result['confint'].T\n",
    "    sns.pointplot(x=x,\n",
    "                y=y,\n",
    "                join=False,\n",
    "                ci=False,\n",
    "                ax=ax,\n",
    "                color=\"#42847D\")\n",
    "    ax.errorbar(x, y, xerr=xerr, ls='none', color='#42847D')\n",
    "    ax.title.set_text(query_result['semiology_name'])\n",
    "    ax.axvline(x=1/55,ymin=-0.2,ymax=1.2,c=\"darksalmon\",linewidth=1, zorder=0,clip_on=False)\n",
    "\n",
    "fig, axs = plt.subplots(3, 3, sharex=True, sharey=True, figsize=(10, 10))\n",
    "for i, semiology in enumerate(top_10_semiologies[:9]):\n",
    "    coord = divmod(i, 3)\n",
    "    plot_semiology(temporal_other_qr[semiology], axs[coord[0], coord[1]])\n",
    "    \n",
    "plt.vlines(1/55, 0, 1)"
   ]
  },
  {
   "cell_type": "code",
   "execution_count": 146,
   "metadata": {},
   "outputs": [
    {
     "data": {
      "text/plain": [
       "array([[2.89487124e-02, 7.84394834e-02],\n",
       "       [1.75359064e-01, 2.68731423e-01],\n",
       "       [1.94637005e-04, 1.60033549e-02],\n",
       "       [6.72185175e-03, 3.75346644e-02],\n",
       "       [1.59789165e-02, 5.63361240e-02],\n",
       "       [5.57029957e-02, 1.18324195e-01],\n",
       "       [5.47476465e-01, 6.57701494e-01]])"
      ]
     },
     "execution_count": 146,
     "metadata": {},
     "output_type": "execute_result"
    }
   ],
   "source": [
    "temporal_other_qr['Hypermotor']['confint']"
   ]
  },
  {
   "cell_type": "code",
   "execution_count": 82,
   "metadata": {},
   "outputs": [
    {
     "data": {
      "text/plain": [
       "array([[0.07297152, 0.        , 0.05501123, 0.        , 0.1346034 ,\n",
       "        0.00360822, 0.02424663, 0.02424663, 0.01227274],\n",
       "       [0.46367551, 0.20957434, 0.42712368, 0.20957434, 0.56557997,\n",
       "        0.26047823, 0.34886406, 0.34886406, 0.30632584]])"
      ]
     },
     "execution_count": 82,
     "metadata": {},
     "output_type": "execute_result"
    }
   ],
   "source": [
    "semiology_query_results[semiology]['confint'].T"
   ]
  },
  {
   "cell_type": "code",
   "execution_count": null,
   "metadata": {},
   "outputs": [],
   "source": []
  },
  {
   "cell_type": "code",
   "execution_count": 31,
   "metadata": {},
   "outputs": [
    {
     "data": {
      "text/html": [
       "<div>\n",
       "<style scoped>\n",
       "    .dataframe tbody tr th:only-of-type {\n",
       "        vertical-align: middle;\n",
       "    }\n",
       "\n",
       "    .dataframe tbody tr th {\n",
       "        vertical-align: top;\n",
       "    }\n",
       "\n",
       "    .dataframe thead th {\n",
       "        text-align: right;\n",
       "    }\n",
       "</style>\n",
       "<table border=\"1\" class=\"dataframe\">\n",
       "  <thead>\n",
       "    <tr style=\"text-align: right;\">\n",
       "      <th></th>\n",
       "      <th>Epigastric</th>\n",
       "      <th>Fear-Anxiety</th>\n",
       "      <th>Psychic</th>\n",
       "      <th>Autonomous-Vegetative</th>\n",
       "      <th>Olfactory</th>\n",
       "      <th>Gustatory</th>\n",
       "      <th>Auditory</th>\n",
       "      <th>Visual - Elementary</th>\n",
       "      <th>Visual - Complex</th>\n",
       "      <th>Somatosensory</th>\n",
       "      <th>...</th>\n",
       "      <th>Dacrystic</th>\n",
       "      <th>Ictal Pout</th>\n",
       "      <th>Mimetic Automatisms</th>\n",
       "      <th>Vocalisation: Unintelligible Noises</th>\n",
       "      <th>Aphasia</th>\n",
       "      <th>Dysphasia</th>\n",
       "      <th>Ictal Speech: Formed Words</th>\n",
       "      <th>No Semiology - Only Stimulation Studies</th>\n",
       "      <th>Dialeptic/LOA</th>\n",
       "      <th>LOC</th>\n",
       "    </tr>\n",
       "  </thead>\n",
       "  <tbody>\n",
       "    <tr>\n",
       "      <th>query_inspection</th>\n",
       "      <td>Post-op Sz Freedom (Engel Ia, Ib; ILAE 1,...</td>\n",
       "      <td>Post-op Sz Freedom (Engel Ia, Ib; ILAE 1,...</td>\n",
       "      <td>Post-op Sz Freedom (Engel Ia, Ib; ILAE 1,...</td>\n",
       "      <td>Empty DataFrame\n",
       "Columns: [Post-op Sz Freedom (...</td>\n",
       "      <td>Post-op Sz Freedom (Engel Ia, Ib; ILAE 1,...</td>\n",
       "      <td>Post-op Sz Freedom (Engel Ia, Ib; ILAE 1,...</td>\n",
       "      <td>Post-op Sz Freedom (Engel Ia, Ib; ILAE 1,...</td>\n",
       "      <td>Empty DataFrame\n",
       "Columns: [Post-op Sz Freedom (...</td>\n",
       "      <td>Empty DataFrame\n",
       "Columns: [Post-op Sz Freedom (...</td>\n",
       "      <td>Post-op Sz Freedom (Engel Ia, Ib; ILAE 1,...</td>\n",
       "      <td>...</td>\n",
       "      <td>Post-op Sz Freedom (Engel Ia, Ib; ILAE 1,...</td>\n",
       "      <td>Post-op Sz Freedom (Engel Ia, Ib; ILAE 1,...</td>\n",
       "      <td>Post-op Sz Freedom (Engel Ia, Ib; ILAE 1,...</td>\n",
       "      <td>Empty DataFrame\n",
       "Columns: [Post-op Sz Freedom (...</td>\n",
       "      <td>Post-op Sz Freedom (Engel Ia, Ib; ILAE 1,...</td>\n",
       "      <td>Post-op Sz Freedom (Engel Ia, Ib; ILAE 1,...</td>\n",
       "      <td>Empty DataFrame\n",
       "Columns: [Post-op Sz Freedom (...</td>\n",
       "      <td>Empty DataFrame\n",
       "Columns: [Post-op Sz Freedom (...</td>\n",
       "      <td>Empty DataFrame\n",
       "Columns: [Post-op Sz Freedom (...</td>\n",
       "      <td>Post-op Sz Freedom (Engel Ia, Ib; ILAE 1,...</td>\n",
       "    </tr>\n",
       "    <tr>\n",
       "      <th>num_query_lat</th>\n",
       "      <td>0</td>\n",
       "      <td>1</td>\n",
       "      <td>1</td>\n",
       "      <td>0</td>\n",
       "      <td>0</td>\n",
       "      <td>0</td>\n",
       "      <td>35</td>\n",
       "      <td>0</td>\n",
       "      <td>0</td>\n",
       "      <td>110</td>\n",
       "      <td>...</td>\n",
       "      <td>0</td>\n",
       "      <td>1</td>\n",
       "      <td>0</td>\n",
       "      <td>0</td>\n",
       "      <td>204</td>\n",
       "      <td>91</td>\n",
       "      <td>0</td>\n",
       "      <td>0</td>\n",
       "      <td>0</td>\n",
       "      <td>6</td>\n",
       "    </tr>\n",
       "    <tr>\n",
       "      <th>num_query_loc</th>\n",
       "      <td>695</td>\n",
       "      <td>89</td>\n",
       "      <td>441</td>\n",
       "      <td>0</td>\n",
       "      <td>59</td>\n",
       "      <td>76</td>\n",
       "      <td>160</td>\n",
       "      <td>0</td>\n",
       "      <td>0</td>\n",
       "      <td>621</td>\n",
       "      <td>...</td>\n",
       "      <td>18</td>\n",
       "      <td>46</td>\n",
       "      <td>50</td>\n",
       "      <td>0</td>\n",
       "      <td>189</td>\n",
       "      <td>126</td>\n",
       "      <td>0</td>\n",
       "      <td>0</td>\n",
       "      <td>0</td>\n",
       "      <td>26</td>\n",
       "    </tr>\n",
       "    <tr>\n",
       "      <th>by_zone</th>\n",
       "      <td>Mesial Temporal             447.0\n",
       "Lateral Temp...</td>\n",
       "      <td>Mesial Temporal             33.0\n",
       "Lateral Tempo...</td>\n",
       "      <td>Mesial Temporal             302.0\n",
       "Lateral Temp...</td>\n",
       "      <td>Mesial Temporal             0.0\n",
       "Lateral Tempor...</td>\n",
       "      <td>Mesial Temporal             31.0\n",
       "Lateral Tempo...</td>\n",
       "      <td>Mesial Temporal             44.0\n",
       "Lateral Tempo...</td>\n",
       "      <td>Mesial Temporal             55.0\n",
       "Lateral Tempo...</td>\n",
       "      <td>Mesial Temporal             0.0\n",
       "Lateral Tempor...</td>\n",
       "      <td>Mesial Temporal             0.0\n",
       "Lateral Tempor...</td>\n",
       "      <td>Mesial Temporal              90.0\n",
       "Lateral Temp...</td>\n",
       "      <td>...</td>\n",
       "      <td>Mesial Temporal             6.0\n",
       "Lateral Tempor...</td>\n",
       "      <td>Mesial Temporal              0.0\n",
       "Lateral Tempo...</td>\n",
       "      <td>Mesial Temporal             34.0\n",
       "Lateral Tempo...</td>\n",
       "      <td>Mesial Temporal             0.0\n",
       "Lateral Tempor...</td>\n",
       "      <td>Mesial Temporal             44.0\n",
       "Lateral Tempo...</td>\n",
       "      <td>Mesial Temporal             60.0\n",
       "Lateral Tempo...</td>\n",
       "      <td>Mesial Temporal             0.0\n",
       "Lateral Tempor...</td>\n",
       "      <td>Mesial Temporal             0.0\n",
       "Lateral Tempor...</td>\n",
       "      <td>Mesial Temporal             0.0\n",
       "Lateral Tempor...</td>\n",
       "      <td>Mesial Temporal             6.0\n",
       "Lateral Tempor...</td>\n",
       "    </tr>\n",
       "    <tr>\n",
       "      <th>proportions</th>\n",
       "      <td>[0.4740190880169671, 0.05620360551431601, 0.30...</td>\n",
       "      <td>[0.3473684210526316, 0.05263157894736842, 0.07...</td>\n",
       "      <td>[0.4467455621301775, 0.034023668639053255, 0.4...</td>\n",
       "      <td>[nan, nan, nan, nan, nan, nan, nan, nan, nan]</td>\n",
       "      <td>[0.3780487804878049, 0.036585365853658534, 0.2...</td>\n",
       "      <td>[0.39285714285714285, 0.044642857142857144, 0....</td>\n",
       "      <td>[0.2412280701754386, 0.15350877192982457, 0.13...</td>\n",
       "      <td>[nan, nan, nan, nan, nan, nan, nan, nan, nan]</td>\n",
       "      <td>[nan, nan, nan, nan, nan, nan, nan, nan, nan]</td>\n",
       "      <td>[0.12987012987012986, 0.010101010101010102, 0....</td>\n",
       "      <td>...</td>\n",
       "      <td>[0.375, 0.0, 0.1875, 0.0, 0.3125, 0.125, 0.0, ...</td>\n",
       "      <td>[0.0, 0.0, 0.0, 0.0, 0.7096774193548387, 0.112...</td>\n",
       "      <td>[0.38636363636363635, 0.125, 0.272727272727272...</td>\n",
       "      <td>[nan, nan, nan, nan, nan, nan, nan, nan, nan]</td>\n",
       "      <td>[0.24043715846994534, 0.01092896174863388, 0.3...</td>\n",
       "      <td>[0.31088082901554404, 0.12953367875647667, 0.1...</td>\n",
       "      <td>[nan, nan, nan, nan, nan, nan, nan, nan, nan]</td>\n",
       "      <td>[nan, nan, nan, nan, nan, nan, nan, nan, nan]</td>\n",
       "      <td>[nan, nan, nan, nan, nan, nan, nan, nan, nan]</td>\n",
       "      <td>[0.20689655172413793, 0.0, 0.1724137931034483,...</td>\n",
       "    </tr>\n",
       "    <tr>\n",
       "      <th>confint</th>\n",
       "      <td>[[0.4293230563446197, 0.5191353825012158], [0....</td>\n",
       "      <td>[[0.22800873309694997, 0.48958542133304495], [...</td>\n",
       "      <td>[[0.3946180025981332, 0.5000709711046932], [0....</td>\n",
       "      <td>[[nan, nan], [nan, nan], [nan, nan], [nan, nan...</td>\n",
       "      <td>[[0.24614170852969208, 0.5308657352836006], [0...</td>\n",
       "      <td>[[0.27576259217174626, 0.5237178826361149], [0...</td>\n",
       "      <td>[[0.17193573248232444, 0.32740469627786994], [...</td>\n",
       "      <td>[[nan, nan], [nan, nan], [nan, nan], [nan, nan...</td>\n",
       "      <td>[[nan, nan], [nan, nan], [nan, nan], [nan, nan...</td>\n",
       "      <td>[[0.09848382802652408, 0.16937975728319263], [...</td>\n",
       "      <td>...</td>\n",
       "      <td>[[0.13678906025757434, 0.6943568564139498], [0...</td>\n",
       "      <td>[[0.0, 0.11033423208117948], [0.0, 0.110334232...</td>\n",
       "      <td>[[0.25716745645855926, 0.5338223055278839], [0...</td>\n",
       "      <td>[[nan, nan], [nan, nan], [nan, nan], [nan, nan...</td>\n",
       "      <td>[[0.16445369620670924, 0.3373531520430725], [0...</td>\n",
       "      <td>[[0.22723910227219915, 0.40901417343692664], [...</td>\n",
       "      <td>[[nan, nan], [nan, nan], [nan, nan], [nan, nan...</td>\n",
       "      <td>[[nan, nan], [nan, nan], [nan, nan], [nan, nan...</td>\n",
       "      <td>[[nan, nan], [nan, nan], [nan, nan], [nan, nan...</td>\n",
       "      <td>[[0.07297151653262395, 0.4636755129032705], [0...</td>\n",
       "    </tr>\n",
       "  </tbody>\n",
       "</table>\n",
       "<p>6 rows × 55 columns</p>\n",
       "</div>"
      ],
      "text/plain": [
       "                                                         Epigastric  \\\n",
       "query_inspection       Post-op Sz Freedom (Engel Ia, Ib; ILAE 1,...   \n",
       "num_query_lat                                                     0   \n",
       "num_query_loc                                                   695   \n",
       "by_zone           Mesial Temporal             447.0\n",
       "Lateral Temp...   \n",
       "proportions       [0.4740190880169671, 0.05620360551431601, 0.30...   \n",
       "confint           [[0.4293230563446197, 0.5191353825012158], [0....   \n",
       "\n",
       "                                                       Fear-Anxiety  \\\n",
       "query_inspection       Post-op Sz Freedom (Engel Ia, Ib; ILAE 1,...   \n",
       "num_query_lat                                                     1   \n",
       "num_query_loc                                                    89   \n",
       "by_zone           Mesial Temporal             33.0\n",
       "Lateral Tempo...   \n",
       "proportions       [0.3473684210526316, 0.05263157894736842, 0.07...   \n",
       "confint           [[0.22800873309694997, 0.48958542133304495], [...   \n",
       "\n",
       "                                                            Psychic  \\\n",
       "query_inspection       Post-op Sz Freedom (Engel Ia, Ib; ILAE 1,...   \n",
       "num_query_lat                                                     1   \n",
       "num_query_loc                                                   441   \n",
       "by_zone           Mesial Temporal             302.0\n",
       "Lateral Temp...   \n",
       "proportions       [0.4467455621301775, 0.034023668639053255, 0.4...   \n",
       "confint           [[0.3946180025981332, 0.5000709711046932], [0....   \n",
       "\n",
       "                                              Autonomous-Vegetative  \\\n",
       "query_inspection  Empty DataFrame\n",
       "Columns: [Post-op Sz Freedom (...   \n",
       "num_query_lat                                                     0   \n",
       "num_query_loc                                                     0   \n",
       "by_zone           Mesial Temporal             0.0\n",
       "Lateral Tempor...   \n",
       "proportions           [nan, nan, nan, nan, nan, nan, nan, nan, nan]   \n",
       "confint           [[nan, nan], [nan, nan], [nan, nan], [nan, nan...   \n",
       "\n",
       "                                                          Olfactory  \\\n",
       "query_inspection       Post-op Sz Freedom (Engel Ia, Ib; ILAE 1,...   \n",
       "num_query_lat                                                     0   \n",
       "num_query_loc                                                    59   \n",
       "by_zone           Mesial Temporal             31.0\n",
       "Lateral Tempo...   \n",
       "proportions       [0.3780487804878049, 0.036585365853658534, 0.2...   \n",
       "confint           [[0.24614170852969208, 0.5308657352836006], [0...   \n",
       "\n",
       "                                                          Gustatory  \\\n",
       "query_inspection       Post-op Sz Freedom (Engel Ia, Ib; ILAE 1,...   \n",
       "num_query_lat                                                     0   \n",
       "num_query_loc                                                    76   \n",
       "by_zone           Mesial Temporal             44.0\n",
       "Lateral Tempo...   \n",
       "proportions       [0.39285714285714285, 0.044642857142857144, 0....   \n",
       "confint           [[0.27576259217174626, 0.5237178826361149], [0...   \n",
       "\n",
       "                                                           Auditory  \\\n",
       "query_inspection       Post-op Sz Freedom (Engel Ia, Ib; ILAE 1,...   \n",
       "num_query_lat                                                    35   \n",
       "num_query_loc                                                   160   \n",
       "by_zone           Mesial Temporal             55.0\n",
       "Lateral Tempo...   \n",
       "proportions       [0.2412280701754386, 0.15350877192982457, 0.13...   \n",
       "confint           [[0.17193573248232444, 0.32740469627786994], [...   \n",
       "\n",
       "                                                Visual - Elementary  \\\n",
       "query_inspection  Empty DataFrame\n",
       "Columns: [Post-op Sz Freedom (...   \n",
       "num_query_lat                                                     0   \n",
       "num_query_loc                                                     0   \n",
       "by_zone           Mesial Temporal             0.0\n",
       "Lateral Tempor...   \n",
       "proportions           [nan, nan, nan, nan, nan, nan, nan, nan, nan]   \n",
       "confint           [[nan, nan], [nan, nan], [nan, nan], [nan, nan...   \n",
       "\n",
       "                                                   Visual - Complex  \\\n",
       "query_inspection  Empty DataFrame\n",
       "Columns: [Post-op Sz Freedom (...   \n",
       "num_query_lat                                                     0   \n",
       "num_query_loc                                                     0   \n",
       "by_zone           Mesial Temporal             0.0\n",
       "Lateral Tempor...   \n",
       "proportions           [nan, nan, nan, nan, nan, nan, nan, nan, nan]   \n",
       "confint           [[nan, nan], [nan, nan], [nan, nan], [nan, nan...   \n",
       "\n",
       "                                                      Somatosensory  ...  \\\n",
       "query_inspection       Post-op Sz Freedom (Engel Ia, Ib; ILAE 1,...  ...   \n",
       "num_query_lat                                                   110  ...   \n",
       "num_query_loc                                                   621  ...   \n",
       "by_zone           Mesial Temporal              90.0\n",
       "Lateral Temp...  ...   \n",
       "proportions       [0.12987012987012986, 0.010101010101010102, 0....  ...   \n",
       "confint           [[0.09848382802652408, 0.16937975728319263], [...  ...   \n",
       "\n",
       "                                                          Dacrystic  \\\n",
       "query_inspection       Post-op Sz Freedom (Engel Ia, Ib; ILAE 1,...   \n",
       "num_query_lat                                                     0   \n",
       "num_query_loc                                                    18   \n",
       "by_zone           Mesial Temporal             6.0\n",
       "Lateral Tempor...   \n",
       "proportions       [0.375, 0.0, 0.1875, 0.0, 0.3125, 0.125, 0.0, ...   \n",
       "confint           [[0.13678906025757434, 0.6943568564139498], [0...   \n",
       "\n",
       "                                                         Ictal Pout  \\\n",
       "query_inspection       Post-op Sz Freedom (Engel Ia, Ib; ILAE 1,...   \n",
       "num_query_lat                                                     1   \n",
       "num_query_loc                                                    46   \n",
       "by_zone           Mesial Temporal              0.0\n",
       "Lateral Tempo...   \n",
       "proportions       [0.0, 0.0, 0.0, 0.0, 0.7096774193548387, 0.112...   \n",
       "confint           [[0.0, 0.11033423208117948], [0.0, 0.110334232...   \n",
       "\n",
       "                                                Mimetic Automatisms  \\\n",
       "query_inspection       Post-op Sz Freedom (Engel Ia, Ib; ILAE 1,...   \n",
       "num_query_lat                                                     0   \n",
       "num_query_loc                                                    50   \n",
       "by_zone           Mesial Temporal             34.0\n",
       "Lateral Tempo...   \n",
       "proportions       [0.38636363636363635, 0.125, 0.272727272727272...   \n",
       "confint           [[0.25716745645855926, 0.5338223055278839], [0...   \n",
       "\n",
       "                                Vocalisation: Unintelligible Noises  \\\n",
       "query_inspection  Empty DataFrame\n",
       "Columns: [Post-op Sz Freedom (...   \n",
       "num_query_lat                                                     0   \n",
       "num_query_loc                                                     0   \n",
       "by_zone           Mesial Temporal             0.0\n",
       "Lateral Tempor...   \n",
       "proportions           [nan, nan, nan, nan, nan, nan, nan, nan, nan]   \n",
       "confint           [[nan, nan], [nan, nan], [nan, nan], [nan, nan...   \n",
       "\n",
       "                                                            Aphasia  \\\n",
       "query_inspection       Post-op Sz Freedom (Engel Ia, Ib; ILAE 1,...   \n",
       "num_query_lat                                                   204   \n",
       "num_query_loc                                                   189   \n",
       "by_zone           Mesial Temporal             44.0\n",
       "Lateral Tempo...   \n",
       "proportions       [0.24043715846994534, 0.01092896174863388, 0.3...   \n",
       "confint           [[0.16445369620670924, 0.3373531520430725], [0...   \n",
       "\n",
       "                                                          Dysphasia  \\\n",
       "query_inspection       Post-op Sz Freedom (Engel Ia, Ib; ILAE 1,...   \n",
       "num_query_lat                                                    91   \n",
       "num_query_loc                                                   126   \n",
       "by_zone           Mesial Temporal             60.0\n",
       "Lateral Tempo...   \n",
       "proportions       [0.31088082901554404, 0.12953367875647667, 0.1...   \n",
       "confint           [[0.22723910227219915, 0.40901417343692664], [...   \n",
       "\n",
       "                                         Ictal Speech: Formed Words  \\\n",
       "query_inspection  Empty DataFrame\n",
       "Columns: [Post-op Sz Freedom (...   \n",
       "num_query_lat                                                     0   \n",
       "num_query_loc                                                     0   \n",
       "by_zone           Mesial Temporal             0.0\n",
       "Lateral Tempor...   \n",
       "proportions           [nan, nan, nan, nan, nan, nan, nan, nan, nan]   \n",
       "confint           [[nan, nan], [nan, nan], [nan, nan], [nan, nan...   \n",
       "\n",
       "                            No Semiology - Only Stimulation Studies  \\\n",
       "query_inspection  Empty DataFrame\n",
       "Columns: [Post-op Sz Freedom (...   \n",
       "num_query_lat                                                     0   \n",
       "num_query_loc                                                     0   \n",
       "by_zone           Mesial Temporal             0.0\n",
       "Lateral Tempor...   \n",
       "proportions           [nan, nan, nan, nan, nan, nan, nan, nan, nan]   \n",
       "confint           [[nan, nan], [nan, nan], [nan, nan], [nan, nan...   \n",
       "\n",
       "                                                      Dialeptic/LOA  \\\n",
       "query_inspection  Empty DataFrame\n",
       "Columns: [Post-op Sz Freedom (...   \n",
       "num_query_lat                                                     0   \n",
       "num_query_loc                                                     0   \n",
       "by_zone           Mesial Temporal             0.0\n",
       "Lateral Tempor...   \n",
       "proportions           [nan, nan, nan, nan, nan, nan, nan, nan, nan]   \n",
       "confint           [[nan, nan], [nan, nan], [nan, nan], [nan, nan...   \n",
       "\n",
       "                                                                LOC  \n",
       "query_inspection       Post-op Sz Freedom (Engel Ia, Ib; ILAE 1,...  \n",
       "num_query_lat                                                     6  \n",
       "num_query_loc                                                    26  \n",
       "by_zone           Mesial Temporal             6.0\n",
       "Lateral Tempor...  \n",
       "proportions       [0.20689655172413793, 0.0, 0.1724137931034483,...  \n",
       "confint           [[0.07297151653262395, 0.4636755129032705], [0...  \n",
       "\n",
       "[6 rows x 55 columns]"
      ]
     },
     "execution_count": 31,
     "metadata": {},
     "output_type": "execute_result"
    }
   ],
   "source": [
    "for semiology_query_results['']"
   ]
  },
  {
   "cell_type": "code",
   "execution_count": null,
   "metadata": {},
   "outputs": [],
   "source": []
  },
  {
   "cell_type": "code",
   "execution_count": null,
   "metadata": {},
   "outputs": [],
   "source": []
  },
  {
   "cell_type": "code",
   "execution_count": 87,
   "metadata": {},
   "outputs": [],
   "source": []
  },
  {
   "cell_type": "code",
   "execution_count": 90,
   "metadata": {},
   "outputs": [
    {
     "data": {
      "image/png": "[encoded data removed]",
      "text/plain": [
       "<Figure size 432x288 with 1 Axes>"
      ]
     },
     "metadata": {
      "needs_background": "light"
     },
     "output_type": "display_data"
    }
   ],
   "source": [
    "ax = sns.pointplot(y=proportions, x=list(range(len(proportions))), ci = ci, join=False, markers='.')"
   ]
  },
  {
   "cell_type": "code",
   "execution_count": 89,
   "metadata": {},
   "outputs": [
    {
     "data": {
      "text/plain": [
       "array([0.07747403, 0.0927783 , 0.0575779 , 0.0575779 , 0.1911451 ,\n",
       "       0.0575779 , 0.10148712, 0.09725352, 0.0575779 , 0.10148712,\n",
       "       0.07747403, 0.0575779 , 0.07747403, 0.0575779 , 0.07152344,\n",
       "       0.0575779 , 0.08294457, 0.0575779 , 0.0575779 , 0.0575779 ,\n",
       "       0.07152344, 0.0575779 , 0.11300228, 0.0575779 , 0.09725352,\n",
       "       0.0927783 , 0.11300228, 0.1231177 , 0.08802461, 0.0575779 ,\n",
       "       0.0927783 , 0.06496101, 0.0575779 , 0.07152344, 0.07152344,\n",
       "       0.0575779 , 0.0575779 , 0.07747403, 0.0575779 , 0.0575779 ,\n",
       "       0.0575779 ])"
      ]
     },
     "execution_count": 89,
     "metadata": {},
     "output_type": "execute_result"
    }
   ],
   "source": [
    "ci"
   ]
  },
  {
   "cell_type": "code",
   "execution_count": null,
   "metadata": {},
   "outputs": [],
   "source": []
  }
 ],
 "metadata": {
  "kernelspec": {
   "display_name": "Python 3",
   "language": "python",
   "name": "python3"
  },
  "language_info": {
   "codemirror_mode": {
    "name": "ipython",
    "version": 3
   },
   "file_extension": ".py",
   "mimetype": "text/x-python",
   "name": "python",
   "nbconvert_exporter": "python",
   "pygments_lexer": "ipython3",
   "version": "3.9.1"
  }
 },
 "nbformat": 4,
 "nbformat_minor": 4
}
