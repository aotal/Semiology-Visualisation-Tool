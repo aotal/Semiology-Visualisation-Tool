{
 "cells": [
  {
   "cell_type": "code",
   "execution_count": 8,
   "metadata": {},
   "outputs": [],
   "source": [
    "import pandas as pd\n",
    "import numpy as np\n",
    "import matplotlib.pyplot as plt\n",
    "import seaborn as sns\n",
    "import sys\n",
    "import os\n",
    "from os import path\n",
    "import yaml\n",
    "import copy \n",
    "from statsmodels.stats.proportion import multinomial_proportions_confint"
   ]
  },
  {
   "cell_type": "code",
   "execution_count": null,
   "metadata": {},
   "outputs": [],
   "source": [
    "os.chdir('..')"
   ]
  },
  {
   "cell_type": "code",
   "execution_count": 59,
   "metadata": {},
   "outputs": [],
   "source": [
    "from mega_analysis.crosstab.mega_analysis.MEGA_ANALYSIS import MEGA_ANALYSIS\n",
    "from mega_analysis.crosstab.mega_analysis.QUERY_SEMIOLOGY import QUERY_SEMIOLOGY\n",
    "from mega_analysis.crosstab.file_paths import file_paths\n",
    "from mega_analysis.crosstab.lobe_top_level_hierarchy_only import top_level_lobes\n",
    "from mega_analysis.semiology import recursive_items"
   ]
  },
  {
   "cell_type": "code",
   "execution_count": 13,
   "metadata": {},
   "outputs": [],
   "source": [
    "repo_dir, resources_dir, excel_path, semiology_dict_path = file_paths()\n",
    "\n",
    "Semio2Brain_Database = r'/Volumes/Encrypted/Semiology-Visualisation-Tool/resources/__Semio2Brain Database v1.1.0.xlsx'\n",
    "\n",
    "with open(semiology_dict_path) as f:\n",
    "    SemioDict = yaml.load(f, Loader=yaml.FullLoader)"
   ]
  },
  {
   "cell_type": "code",
   "execution_count": 14,
   "metadata": {},
   "outputs": [],
   "source": [
    "(original_df, \n",
    "df_ground_truth, df_study_type,\n",
    "num_database_articles, num_database_patients, num_database_lat, num_database_loc) = \\\n",
    "                MEGA_ANALYSIS(Semio2Brain_Database)\n",
    "df = original_df.copy()"
   ]
  },
  {
   "cell_type": "code",
   "execution_count": 15,
   "metadata": {},
   "outputs": [],
   "source": [
    "semiology_list = list(recursive_items(SemioDict))"
   ]
  },
  {
   "cell_type": "code",
   "execution_count": 16,
   "metadata": {},
   "outputs": [],
   "source": [
    "semiology_query_results = {}\n",
    "for semiology in semiology_list:\n",
    "    query_inspection, num_query_lat, num_query_loc = QUERY_SEMIOLOGY(df,\n",
    "                                                                 semiology_term=semiology,\n",
    "                                                                 ignore_case=True,\n",
    "                                                                 semiology_dict_path=None,\n",
    "                                                                 all_columns_wanted = True)\n",
    "                                                                         # col1=col1, col2=col1)\n",
    "    one_query_result = {\n",
    "        'query_inspection': query_inspection,\n",
    "        'num_query_lat': num_query_lat,\n",
    "        'num_query_loc': num_query_loc\n",
    "    }\n",
    "    semiology_query_results[semiology] = one_query_result"
   ]
  },
  {
   "cell_type": "code",
   "execution_count": 17,
   "metadata": {},
   "outputs": [],
   "source": [
    "n_results = []\n",
    "for k, v in semiology_query_results.items():\n",
    "    n_results.append(v['num_query_loc'])\n",
    "n_results = np.array(n_results)\n",
    "top_10_semiologies = np.array(semiology_list)[(n_results>170)]"
   ]
  },
  {
   "cell_type": "code",
   "execution_count": 66,
   "metadata": {},
   "outputs": [
    {
     "data": {
      "text/plain": [
       "{'Cerebellum',\n",
       " 'FP',\n",
       " 'FT',\n",
       " 'FTP',\n",
       " 'Hypothalamus',\n",
       " 'PO',\n",
       " 'Perisylvian',\n",
       " 'Sub-Callosal Cortex',\n",
       " 'TO',\n",
       " 'TP',\n",
       " 'TPO Junction'}"
      ]
     },
     "execution_count": 66,
     "metadata": {},
     "output_type": "execute_result"
    }
   ],
   "source": [
    "set(top_level) - set(regions_of_interest)"
   ]
  },
  {
   "cell_type": "code",
   "execution_count": 65,
   "metadata": {},
   "outputs": [],
   "source": [
    "regions_of_interest = ['Mesial Temporal',\n",
    "                         'Lateral Temporal',\n",
    "                         'Anterior (temporal pole)',\n",
    "                         'Posterior Temporal',\n",
    "                         'TL',\n",
    "                         'FL',\n",
    "                         'PL',\n",
    "                         'OL',\n",
    "                         'INSULA',\n",
    "                         'CING',\n",
    "                        ]\n",
    "# regions_of_interest.sort()\n",
    "temporal_regions = ['Anterior (temporal pole)',\n",
    " 'Lateral Temporal',\n",
    " 'Mesial Temporal',\n",
    " 'Posterior Temporal']"
   ]
  },
  {
   "cell_type": "code",
   "execution_count": null,
   "metadata": {},
   "outputs": [],
   "source": []
  },
  {
   "cell_type": "code",
   "execution_count": 32,
   "metadata": {},
   "outputs": [],
   "source": [
    "all_regions = \"\"\"TL\n",
    "Anterior (temporal pole)\n",
    "Lateral Temporal\n",
    "STG (includes Transverse Temporal Gyrus, Both Planum)\n",
    "Transverse Temporal Gyrus (Heschl's, BA 41,  42, ?opercula)\n",
    "Planum Temporale\n",
    "Planum Polare\n",
    "MTG\n",
    "ITG\n",
    "Mesial Temporal\n",
    "Ant Mesial Temporal\n",
    "Post Mesial Temporal\n",
    "Enthorinal Cortex\n",
    "Fusiform\n",
    "AMYGD\n",
    "PARAHIPPOCAMPUS\n",
    "HIPPOCAMPUS\n",
    "Posterior Temporal\n",
    "Basal (including Fusiform OTMG)\n",
    "OTMG (fusiform)\n",
    "FL\n",
    "frontal pole\n",
    "Pre-frontal (BA 8, 9, 10, 11, 12, 13, 14, 24, 25, 32, 44, 45, 46, 47)\n",
    "DL-PFC (BA 46) (include subgroups BA 9, 8, 10 - frontopolar/anterior prefrontal)\n",
    "gyrus rectus (basal = gyrus rectus and OFC)\n",
    "Orbito-frontal (BA 10, 11, 12/47) (basal = gyrus rectus and OFC)\n",
    "Post OF\n",
    "Lat OF\n",
    "Med OF\n",
    "Medial Frontal (include medial premotor and its constituents as its subsets)\n",
    "Primary Motor Cortex (Pre-central gyrus, BA 4, Rolandic)\n",
    "medial precentral\n",
    "Rolandic Operculum (low BA4)\n",
    "SFG (F1)\n",
    "Med SFG\n",
    "Post SFG\n",
    "Ant SFG\n",
    "MFG (F2)\n",
    "Ant MFG\n",
    "Mid MFG\n",
    "Post MFG\n",
    "Pars Triangularis (subgroup IFG)\n",
    "Pars opercularis (BA 44)(subgroup IFG, ?opercula)\n",
    "Premotor frontal (posterior frontal)\n",
    "Ant Premotor (BA 8, frontal-eye-fields)\n",
    "Medial Premotor (including pre SMA)\n",
    "SMA (pre-central gyrus; posterior SFG, MFG)\n",
    "SSMA\n",
    "CING\n",
    "Cingulum (WM)\n",
    "Ant Cing (frontal, genu)\n",
    "Dorsal Ant Cing (BA 32)\n",
    "Middle Cingulate\n",
    "Post Cing\n",
    "Isthmus\n",
    "PL\n",
    "Primary Sensory Cortex (post-central gyrus)\n",
    "medial anterior parietal\n",
    "Sup. pariet. lobule\n",
    "Precuneus (medial post sup parietal lobule)\n",
    "Inferior Parietal Lobule\n",
    "Supramarg gyrus (post part of parietal operculum)\n",
    "Angular gyrus (BA 39)\n",
    "parietal operculum (ceiling of secondary somatosensory cortex)\n",
    "OL\n",
    "Mesial Occipital\n",
    "Lingual gyrus  (medial and basal)\n",
    "Cuneus\n",
    "Lateral Occipital (SOG, IOG, LOG)\n",
    "Posterior Occipital Gyrus\n",
    "Superior Occipital Gyrus\n",
    "INSULA\n",
    "Ant Ins\n",
    "Anterior Short Gyrus\n",
    "Middle Short Gyrus\n",
    "Post short gyrus\n",
    "Precentral gyrus\n",
    "Postcentral gyrus\n",
    "Posterior long gyrus\n",
    "Hypothalamus\n",
    "Sub-Callosal Cortex\n",
    "Cerebellum\n",
    "Hemisphere\n",
    "Vermis\n",
    "FT\n",
    "TO\n",
    "TP\n",
    "FTP\n",
    "TPO Junction\n",
    "PO\n",
    "FP\n",
    "Perisylvian\"\"\".splitlines()\n",
    "\n",
    "all_regions += ['''IFG (F3)\n",
    "(BA 44,45,47)''',\n",
    "'''Lateral Premotor\n",
    "(BA 6)''',\n",
    "'''Pars orbitalis (subgroup of IFG)\n",
    "(BA 47)''']\n",
    "# '''Pars opercularis (BA 44)(subgroup IFG, ?opercula)'''"
   ]
  },
  {
   "cell_type": "code",
   "execution_count": 33,
   "metadata": {},
   "outputs": [],
   "source": [
    "other_regions = set(all_regions) - set(regions_of_interest)\n",
    "other_regions = list(other_regions)\n",
    "\n",
    "regions_of_interest_minus_temporal = set(regions_of_interest) - set(temporal_regions)\n",
    "regions_of_interest_minus_temporal = list(regions_of_interest_minus_temporal)"
   ]
  },
  {
   "cell_type": "code",
   "execution_count": 70,
   "metadata": {},
   "outputs": [
    {
     "data": {
      "text/plain": [
       "['TL',\n",
       " 'FL',\n",
       " 'CING',\n",
       " 'PL',\n",
       " 'OL',\n",
       " 'INSULA',\n",
       " 'Hypothalamus',\n",
       " 'Sub-Callosal Cortex',\n",
       " 'Cerebellum',\n",
       " 'Perisylvian',\n",
       " 'FT',\n",
       " 'TO',\n",
       " 'TP',\n",
       " 'FTP',\n",
       " 'TPO Junction',\n",
       " 'PO',\n",
       " 'FP']"
      ]
     },
     "execution_count": 70,
     "metadata": {},
     "output_type": "execute_result"
    }
   ],
   "source": [
    "top_level"
   ]
  },
  {
   "cell_type": "code",
   "execution_count": 69,
   "metadata": {},
   "outputs": [],
   "source": [
    "top_level = top_level_lobes()\n",
    "top_level_of_interest = [\n",
    "                         'FL',\n",
    "                         'PL',\n",
    "                         'OL',\n",
    "                         'INSULA',\n",
    "                         'CING',\n",
    "                        ]\n",
    "top_level_all_other = set(top_level) - set(top_level_of_interest) - set('TL')\n",
    "temporal_low_level = ['Mesial Temporal',\n",
    "                        'Lateral Temporal',\n",
    "                        'Anterior (temporal pole)',\n",
    "                        'Posterior Temporal']"
   ]
  },
  {
   "cell_type": "code",
   "execution_count": 34,
   "metadata": {},
   "outputs": [],
   "source": [
    "region_names = {'top_level': top_level,\n",
    "                'top_level_of_interest': top_level_of_interest,\n",
    "                'top_level_all_other': top_level_all_other,\n",
    "                'top_level_temporal': ['TL'],\n",
    "                'low_level_temporal': temporal_low_level,\n",
    "                'minus_temporal': regions_of_interest_minus_temporal}"
   ]
  },
  {
   "cell_type": "code",
   "execution_count": 35,
   "metadata": {},
   "outputs": [],
   "source": [
    "def get_proportions(values):\n",
    "    sum_values = np.sum(values)\n",
    "    proportions = [value/sum_values for value in values]\n",
    "    return proportions"
   ]
  },
  {
   "cell_type": "code",
   "execution_count": 36,
   "metadata": {},
   "outputs": [],
   "source": [
    "def calculate_proportions_and_ci(query_results, region_names, other_included = False, merge_temporal = False):\n",
    "    region_names_update = copy.deepcopy(region_names['of_interest'])\n",
    "    if merge_temporal:\n",
    "        region_names_update = region_names['minus_temporal'] + ['Temporal']\n",
    "    if other_included:\n",
    "        region_names_update += ['All other']\n",
    "    \n",
    "    for semiology, value in query_results.items():\n",
    "        query_inspection = query_results[semiology]['query_inspection']\n",
    "        if merge_temporal == False:\n",
    "            by_zone = np.array(query_inspection[region_names['of_interest']].sum(0))\n",
    "        else:\n",
    "            by_zone = np.array(query_inspection[region_names['minus_temporal']].sum(0))\n",
    "            temporal_sum = query_inspection[region_names['temporal']].sum().sum()\n",
    "            by_zone = np.append(by_zone, temporal_sum)\n",
    "            \n",
    "        if other_included:\n",
    "            all_other_zones = query_inspection[region_names['all_other']].sum(0).sum()\n",
    "            by_zone = np.append(by_zone, all_other_zones)\n",
    "            \n",
    "        proportions = get_proportions(by_zone)\n",
    "        confint = multinomial_proportions_confint(by_zone)\n",
    "        ci = confint[:,1] - confint[:,0]\n",
    "\n",
    "        query_results[semiology]['by_zone'] = by_zone\n",
    "        query_results[semiology]['proportions'] = proportions\n",
    "        query_results[semiology]['confint'] = confint\n",
    "        query_results[semiology]['ci'] = ci\n",
    "        query_results[semiology]['semiology_name'] = semiology\n",
    "        query_results[semiology]['region_names'] = region_names_update\n",
    "\n",
    "    return query_results"
   ]
  },
  {
   "cell_type": "code",
   "execution_count": 37,
   "metadata": {},
   "outputs": [
    {
     "name": "stderr",
     "output_type": "stream",
     "text": [
      "<ipython-input-35-94f6c7b79efe>:3: RuntimeWarning: invalid value encountered in double_scalars\n",
      "  proportions = [value/sum_values for value in values]\n",
      "/Users/karan/anaconda3/envs/semiology-vis/lib/python3.9/site-packages/statsmodels/stats/proportion.py:257: RuntimeWarning: invalid value encountered in true_divide\n",
      "  proportions = counts / n\n"
     ]
    }
   ],
   "source": [
    "standard_qr = copy.deepcopy(semiology_query_results)\n",
    "standard_qr = calculate_proportions_and_ci(standard_qr, region_names, other_included = False, merge_temporal = False, )"
   ]
  },
  {
   "cell_type": "code",
   "execution_count": 38,
   "metadata": {},
   "outputs": [
    {
     "name": "stderr",
     "output_type": "stream",
     "text": [
      "<ipython-input-35-94f6c7b79efe>:3: RuntimeWarning: invalid value encountered in double_scalars\n",
      "  proportions = [value/sum_values for value in values]\n"
     ]
    }
   ],
   "source": [
    "other_qr = copy.deepcopy(semiology_query_results)\n",
    "other_qr = calculate_proportions_and_ci(other_qr, region_names, other_included = True, merge_temporal = False)"
   ]
  },
  {
   "cell_type": "code",
   "execution_count": 45,
   "metadata": {},
   "outputs": [
    {
     "data": {
      "text/plain": [
       "['Post MFG',\n",
       " 'Isthmus',\n",
       " 'Middle Short Gyrus',\n",
       " 'Orbito-frontal (BA 10, 11, 12/47) (basal = gyrus rectus and OFC)',\n",
       " 'Anterior Short Gyrus',\n",
       " 'Post short gyrus',\n",
       " 'Pars Triangularis (subgroup IFG)',\n",
       " 'Fusiform',\n",
       " 'Primary Motor Cortex (Pre-central gyrus, BA 4, Rolandic)',\n",
       " 'Hemisphere',\n",
       " 'Cerebellum',\n",
       " 'Med SFG',\n",
       " 'Cuneus',\n",
       " 'Post SFG',\n",
       " 'TL',\n",
       " 'parietal operculum (ceiling of secondary somatosensory cortex)',\n",
       " 'MTG',\n",
       " 'gyrus rectus (basal = gyrus rectus and OFC)',\n",
       " 'TPO Junction',\n",
       " 'Middle Cingulate',\n",
       " 'TP',\n",
       " 'FT',\n",
       " 'Medial Premotor (including pre SMA)',\n",
       " 'Posterior long gyrus',\n",
       " 'medial precentral',\n",
       " 'Sup. pariet. lobule',\n",
       " 'Mesial Occipital',\n",
       " 'Primary Sensory Cortex (post-central gyrus)',\n",
       " 'Rolandic Operculum (low BA4)',\n",
       " 'MFG (F2)',\n",
       " 'PARAHIPPOCAMPUS',\n",
       " 'SMA (pre-central gyrus; posterior SFG, MFG)',\n",
       " 'Lateral Occipital (SOG, IOG, LOG)',\n",
       " 'Angular gyrus (BA 39)',\n",
       " 'Vermis',\n",
       " 'Pre-frontal (BA 8, 9, 10, 11, 12, 13, 14, 24, 25, 32, 44, 45, 46, 47)',\n",
       " 'TO',\n",
       " 'PO',\n",
       " 'Perisylvian',\n",
       " 'Superior Occipital Gyrus',\n",
       " \"Transverse Temporal Gyrus (Heschl's, BA 41,  42, ?opercula)\",\n",
       " 'Premotor frontal (posterior frontal)',\n",
       " 'Cingulum (WM)',\n",
       " 'HIPPOCAMPUS',\n",
       " 'Lateral Premotor\\n(BA 6)',\n",
       " 'Ant Ins',\n",
       " 'Precentral gyrus',\n",
       " 'ITG',\n",
       " 'Inferior Parietal Lobule',\n",
       " 'FP',\n",
       " 'Ant Cing (frontal, genu)',\n",
       " 'IFG (F3)\\n(BA 44,45,47)',\n",
       " 'Lingual gyrus  (medial and basal)',\n",
       " 'Basal (including Fusiform OTMG)',\n",
       " 'Mid MFG',\n",
       " 'Lat OF',\n",
       " 'Ant Premotor (BA 8, frontal-eye-fields)',\n",
       " 'OTMG (fusiform)',\n",
       " 'Planum Polare',\n",
       " 'SFG (F1)',\n",
       " 'Postcentral gyrus',\n",
       " 'FTP',\n",
       " 'Post Mesial Temporal',\n",
       " 'Med OF',\n",
       " 'Sub-Callosal Cortex',\n",
       " 'Medial Frontal (include medial premotor and its constituents as its subsets)',\n",
       " 'medial anterior parietal',\n",
       " 'STG (includes Transverse Temporal Gyrus, Both Planum)',\n",
       " 'SSMA',\n",
       " 'AMYGD',\n",
       " 'Ant MFG',\n",
       " 'Ant SFG',\n",
       " 'Enthorinal Cortex',\n",
       " 'Ant Mesial Temporal',\n",
       " 'frontal pole',\n",
       " 'Post OF',\n",
       " 'Dorsal Ant Cing (BA 32)',\n",
       " 'Pars orbitalis (subgroup of IFG)\\n(BA 47)',\n",
       " 'Post Cing',\n",
       " 'Precuneus (medial post sup parietal lobule)',\n",
       " 'Supramarg gyrus (post part of parietal operculum)',\n",
       " 'DL-PFC (BA 46) (include subgroups BA 9, 8, 10 - frontopolar/anterior prefrontal)',\n",
       " 'Posterior Occipital Gyrus',\n",
       " 'Hypothalamus',\n",
       " 'Pars opercularis (BA 44)(subgroup IFG, ?opercula)',\n",
       " 'Planum Temporale']"
      ]
     },
     "execution_count": 45,
     "metadata": {},
     "output_type": "execute_result"
    }
   ],
   "source": [
    "region_names['all_other']"
   ]
  },
  {
   "cell_type": "code",
   "execution_count": 58,
   "metadata": {},
   "outputs": [
    {
     "data": {
      "text/plain": [
       "985.0"
      ]
     },
     "execution_count": 58,
     "metadata": {},
     "output_type": "execute_result"
    }
   ],
   "source": [
    "other_qr['Epigastric']['query_inspection'][region_names['all_other']].sum().sum()"
   ]
  },
  {
   "cell_type": "code",
   "execution_count": 39,
   "metadata": {},
   "outputs": [
    {
     "name": "stderr",
     "output_type": "stream",
     "text": [
      "<ipython-input-35-94f6c7b79efe>:3: RuntimeWarning: invalid value encountered in double_scalars\n",
      "  proportions = [value/sum_values for value in values]\n"
     ]
    }
   ],
   "source": [
    "temporal_other_qr = copy.deepcopy(semiology_query_results)\n",
    "temporal_other_qr = calculate_proportions_and_ci(temporal_other_qr, region_names, other_included = True, merge_temporal=True)"
   ]
  },
  {
   "cell_type": "code",
   "execution_count": 40,
   "metadata": {},
   "outputs": [],
   "source": [
    "def plot_semiology(query_result, ax=None):\n",
    "    x = query_result['proportions']\n",
    "    y = query_result['region_names']\n",
    "    xerr = query_result['confint'].T\n",
    "    sns.pointplot(x=x,\n",
    "                y=y,\n",
    "                join=False,\n",
    "                ci=False,\n",
    "                ax=ax,\n",
    "                color=\"#42847D\")\n",
    "    ax.errorbar(x, y, xerr=xerr, ls='none', color='#42847D')\n",
    "    ax.title.set_text(query_result['semiology_name'])\n",
    "    ax.axvline(x=1/55,ymin=-0.2,ymax=1.2,c=\"darksalmon\",linewidth=1, zorder=0,clip_on=False)"
   ]
  },
  {
   "cell_type": "code",
   "execution_count": 41,
   "metadata": {},
   "outputs": [
    {
     "data": {
      "text/plain": [
       "<matplotlib.collections.LineCollection at 0x13973a8b0>"
      ]
     },
     "execution_count": 41,
     "metadata": {},
     "output_type": "execute_result"
    },
    {
     "data": {
      "image/png": "[encoded data removed]",
      "text/plain": [
       "<Figure size 720x720 with 9 Axes>"
      ]
     },
     "metadata": {},
     "output_type": "display_data"
    }
   ],
   "source": [
    "sns.set_style(\"white\")\n",
    "\n",
    "fig, axs = plt.subplots(3, 3, sharex=True, sharey=True, figsize=(10, 10))\n",
    "for i, semiology in enumerate(top_10_semiologies[:9]):\n",
    "    coord = divmod(i, 3)\n",
    "    plot_semiology(other_qr[semiology], axs[coord[0], coord[1]])\n",
    "    \n",
    "plt.vlines(1/55, 0, 1)"
   ]
  },
  {
   "cell_type": "code",
   "execution_count": null,
   "metadata": {},
   "outputs": [],
   "source": []
  }
 ],
 "metadata": {
  "kernelspec": {
   "display_name": "Python 3",
   "language": "python",
   "name": "python3"
  },
  "language_info": {
   "codemirror_mode": {
    "name": "ipython",
    "version": 3
   },
   "file_extension": ".py",
   "mimetype": "text/x-python",
   "name": "python",
   "nbconvert_exporter": "python",
   "pygments_lexer": "ipython3",
   "version": "3.9.1"
  }
 },
 "nbformat": 4,
 "nbformat_minor": 4
}
