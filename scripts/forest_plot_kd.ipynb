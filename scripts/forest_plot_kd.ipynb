{
 "cells": [
  {
   "cell_type": "code",
   "execution_count": 8,
   "metadata": {},
   "outputs": [],
   "source": [
    "import pandas as pd\n",
    "import numpy as np\n",
    "import matplotlib.pyplot as plt\n",
    "import seaborn as sns\n",
    "import sys\n",
    "import os\n",
    "from os import path\n",
    "import yaml\n",
    "import copy \n",
    "from statsmodels.stats.proportion import multinomial_proportions_confint"
   ]
  },
  {
   "cell_type": "code",
   "execution_count": null,
   "metadata": {},
   "outputs": [],
   "source": [
    "os.chdir('..')"
   ]
  },
  {
   "cell_type": "code",
   "execution_count": 163,
   "metadata": {},
   "outputs": [],
   "source": [
    "from mega_analysis.crosstab.mega_analysis.MEGA_ANALYSIS import MEGA_ANALYSIS\n",
    "from mega_analysis.crosstab.mega_analysis.QUERY_SEMIOLOGY import QUERY_SEMIOLOGY\n",
    "from mega_analysis.crosstab.file_paths import file_paths\n",
    "from mega_analysis.crosstab.lobe_top_level_hierarchy_only import top_level_lobes\n",
    "from mega_analysis.crosstab.hierarchy_dictionaries import temporal_postcodes\n",
    "from mega_analysis.semiology import recursive_items"
   ]
  },
  {
   "cell_type": "code",
   "execution_count": 13,
   "metadata": {},
   "outputs": [],
   "source": [
    "repo_dir, resources_dir, excel_path, semiology_dict_path = file_paths()\n",
    "\n",
    "Semio2Brain_Database = r'/Volumes/Encrypted/Semiology-Visualisation-Tool/resources/__Semio2Brain Database v1.1.0.xlsx'\n",
    "\n",
    "with open(semiology_dict_path) as f:\n",
    "    SemioDict = yaml.load(f, Loader=yaml.FullLoader)"
   ]
  },
  {
   "cell_type": "code",
   "execution_count": 302,
   "metadata": {},
   "outputs": [
    {
     "data": {
      "text/plain": [
       "(2577, 121)"
      ]
     },
     "execution_count": 302,
     "metadata": {},
     "output_type": "execute_result"
    }
   ],
   "source": [
    "(original_df, \n",
    "df_ground_truth, df_study_type,\n",
    "num_database_articles, num_database_patients, num_database_lat, num_database_loc) = \\\n",
    "                MEGA_ANALYSIS(Semio2Brain_Database)\n",
    "df = original_df.copy()\n",
    "print(df.shape)"
   ]
  },
  {
   "cell_type": "code",
   "execution_count": 301,
   "metadata": {},
   "outputs": [
    {
     "data": {
      "text/plain": [
       "(1263, 121)"
      ]
     },
     "execution_count": 301,
     "metadata": {},
     "output_type": "execute_result"
    }
   ],
   "source": [
    "df_ss = df.copy()\n",
    "df_ss['Spontaneous Semiology (SS)'] = df_ss['Spontaneous Semiology (SS)'].replace('y', 1)\n",
    "df_ss = df_ss[df_ss['Spontaneous Semiology (SS)']==True]\n",
    "print(df_ss.shape)"
   ]
  },
  {
   "cell_type": "code",
   "execution_count": null,
   "metadata": {},
   "outputs": [],
   "source": [
    "semiology_list = list(recursive_items(SemioDict))"
   ]
  },
  {
   "cell_type": "code",
   "execution_count": 16,
   "metadata": {},
   "outputs": [],
   "source": [
    "semiology_query_results = {}\n",
    "for semiology in semiology_list:\n",
    "    query_inspection, num_query_lat, num_query_loc = QUERY_SEMIOLOGY(df,\n",
    "                                                                 semiology_term=semiology,\n",
    "                                                                 ignore_case=True,\n",
    "                                                                 semiology_dict_path=None,\n",
    "                                                                 all_columns_wanted = True)\n",
    "                                                                         # col1=col1, col2=col1)\n",
    "    one_query_result = {\n",
    "        'query_inspection': query_inspection,\n",
    "        'num_query_lat': num_query_lat,\n",
    "        'num_query_loc': num_query_loc\n",
    "    }\n",
    "    semiology_query_results[semiology] = one_query_result"
   ]
  },
  {
   "cell_type": "code",
   "execution_count": 248,
   "metadata": {},
   "outputs": [],
   "source": [
    "n_results = []\n",
    "for k, v in semiology_query_results.items():\n",
    "    n_results.append(v['num_query_loc'])\n",
    "n_results = np.array(n_results)\n",
    "top_10_semiologies = np.array(semiology_list)[(n_results>170)]"
   ]
  },
  {
   "cell_type": "code",
   "execution_count": 249,
   "metadata": {},
   "outputs": [
    {
     "data": {
      "text/plain": [
       "array(['Epigastric', 'Psychic', 'Somatosensory', 'Non-Specific Aura',\n",
       "       'Head Version', 'Tonic', 'Dystonic', 'Clonic', 'Hypermotor',\n",
       "       'Aphasia'], dtype='<U47')"
      ]
     },
     "execution_count": 249,
     "metadata": {},
     "output_type": "execute_result"
    }
   ],
   "source": [
    "top_10_semiologies"
   ]
  },
  {
   "cell_type": "code",
   "execution_count": 259,
   "metadata": {},
   "outputs": [],
   "source": [
    "top_level = top_level_lobes()\n",
    "n_top_level_lobes = len(top_level)\n",
    "top_level_of_interest = [\n",
    "                         'TL',\n",
    "                         'FL',\n",
    "                         'PL',\n",
    "                         'OL',\n",
    "                         'INSULA',\n",
    "                         'CING',\n",
    "                         'Hypothalamus',\n",
    "                        ]\n",
    "top_level_all_other = list(set(top_level) - set(top_level_of_interest))\n",
    "top_level_of_interest_minus_tl = list(set(top_level_of_interest) - set(['TL']))\n",
    "\n",
    "low_level_temporal_all =  [y for x in temporal_postcodes.values() for y in x]\n",
    "low_level_temporal_of_interest = ['Mesial Temporal',\n",
    "                        'Lateral Temporal',\n",
    "                        'Anterior (temporal pole)',\n",
    "                        'Posterior Temporal',\n",
    "                        'Basal (including Fusiform OTMG)']\n",
    "\n",
    "low_level_temporal_other =  list(set(all_low_level_temporal) - set(low_level_temporal_of_interest))"
   ]
  },
  {
   "cell_type": "code",
   "execution_count": 274,
   "metadata": {},
   "outputs": [],
   "source": [
    "#TODO - group basal inc. OTMG (fusiform)'\n",
    "#TODO discard other temporal categories\n",
    "#TODO proportion_confint - coun Nobs = total for semiology\n",
    "# Order - as in df\n",
    "# bootstrapping\n",
    "# divide by all cases in a region\n",
    "# plot spontaneous semiology ONLY on top/below normal "
   ]
  },
  {
   "cell_type": "code",
   "execution_count": null,
   "metadata": {},
   "outputs": [],
   "source": []
  },
  {
   "cell_type": "code",
   "execution_count": 266,
   "metadata": {},
   "outputs": [],
   "source": [
    "region_names = {'top_level': top_level,\n",
    "                'of_interest': top_level_of_interest,\n",
    "                'of_interest_minus_tl': top_level_of_interest_minus_tl,\n",
    "                'top_level_all_other': top_level_all_other,\n",
    "                'top_level_temporal': ['TL'],\n",
    "                'low_level_temporal_all': low_level_temporal_all,\n",
    "                'low_level_temporal_of_interest': low_level_temporal_of_interest,\n",
    "                'low_level_temporal_other': low_level_temporal_other}"
   ]
  },
  {
   "cell_type": "code",
   "execution_count": 35,
   "metadata": {},
   "outputs": [],
   "source": [
    "def get_proportions(values):\n",
    "    sum_values = np.sum(values)\n",
    "    proportions = [value/sum_values for value in values]\n",
    "    return proportions"
   ]
  },
  {
   "cell_type": "code",
   "execution_count": null,
   "metadata": {},
   "outputs": [],
   "source": [
    "for semiology, value in semiology_query_results.items():\n",
    "    query_inspection = value['query_inspection']\n",
    "    low_level_sum = query_inspection[region_names['low_level_temporal']].sum().sum()\n",
    "    total_tl = query_inspection['TL'].sum()\n",
    "    other_temporal = total_tl-low_level_sum\n",
    "    print('Semiology:', semiology,\n",
    "          'Total TL: ', total_tl,\n",
    "          'Lower level sum: ', low_level_sum, \n",
    "          'Other temporal: ', other_temporal)"
   ]
  },
  {
   "cell_type": "code",
   "execution_count": 267,
   "metadata": {},
   "outputs": [
    {
     "data": {
      "text/plain": [
       "['Cerebellum',\n",
       " 'FTP',\n",
       " 'TPO Junction',\n",
       " 'TP',\n",
       " 'TO',\n",
       " 'Sub-Callosal Cortex',\n",
       " 'FT',\n",
       " 'FP',\n",
       " 'Perisylvian',\n",
       " 'PO']"
      ]
     },
     "execution_count": 267,
     "metadata": {},
     "output_type": "execute_result"
    }
   ],
   "source": [
    "region_names['top_level_all_other']"
   ]
  },
  {
   "cell_type": "code",
   "execution_count": 270,
   "metadata": {},
   "outputs": [],
   "source": [
    "def calculate_proportions_and_ci(query_results, region_names, other_included = False, merge_temporal = False):\n",
    "    for semiology, value in query_results.items():\n",
    "#         print(region_names_update)\n",
    "        query_inspection = query_results[semiology]['query_inspection']\n",
    "        if merge_temporal == False:\n",
    "            region_names_update = region_names['of_interest_minus_tl'] + region_names['low_level_temporal_of_interest']\n",
    "            by_zone_minus_temporal = np.array(query_inspection[region_names['of_interest_minus_tl']].sum(0))\n",
    "            by_zone_temporal = np.array(query_inspection[region_names['low_level_temporal_of_interest']].sum(0))\n",
    "            by_zone = np.append(by_zone_minus_temporal, by_zone_temporal)\n",
    "#             all_other_temporal  = query_inspection[region_names['low_level_temporal_other']].sum(0).sum()\n",
    "        else:\n",
    "            region_names_update = copy.deepcopy(region_names['of_interest'])\n",
    "            by_zone = np.array(query_inspection[region_names['of_interest']].sum(0))\n",
    "            \n",
    "        if other_included:\n",
    "            region_names_update += ['Any other']\n",
    "            all_other_zones = query_inspection[region_names['top_level_all_other']].sum(0).sum()\n",
    "#             try:\n",
    "#                 all_other_zones += all_other_temporal\n",
    "#             except NameError:\n",
    "#                 pass\n",
    "            by_zone = np.append(by_zone, all_other_zones)\n",
    "            \n",
    "        proportions = get_proportions(by_zone)\n",
    "        confint = multinomial_proportions_confint(by_zone, alpha=0.05, method='sison-glaz') #sison-glaz throws error?!\n",
    "        ci = confint[:,1] - confint[:,0]\n",
    "\n",
    "        query_results[semiology]['by_zone'] = by_zone\n",
    "        query_results[semiology]['proportions'] = proportions\n",
    "        query_results[semiology]['confint'] = confint\n",
    "        query_results[semiology]['ci'] = ci\n",
    "        query_results[semiology]['semiology_name'] = semiology\n",
    "        query_results[semiology]['region_names'] = region_names_update\n",
    "\n",
    "    return query_results"
   ]
  },
  {
   "cell_type": "code",
   "execution_count": 271,
   "metadata": {
    "scrolled": false
   },
   "outputs": [
    {
     "name": "stderr",
     "output_type": "stream",
     "text": [
      "<ipython-input-35-94f6c7b79efe>:3: RuntimeWarning: invalid value encountered in double_scalars\n",
      "  proportions = [value/sum_values for value in values]\n",
      "/Users/karan/anaconda3/envs/semiology-vis/lib/python3.9/site-packages/statsmodels/stats/proportion.py:257: RuntimeWarning: invalid value encountered in true_divide\n",
      "  proportions = counts / n\n",
      "/Users/karan/anaconda3/envs/semiology-vis/lib/python3.9/site-packages/statsmodels/stats/proportion.py:303: RuntimeWarning: invalid value encountered in double_scalars\n",
      "  g1 = mu3.sum() / mu2.sum() ** 1.5\n",
      "/Users/karan/anaconda3/envs/semiology-vis/lib/python3.9/site-packages/statsmodels/stats/proportion.py:304: RuntimeWarning: invalid value encountered in double_scalars\n",
      "  g2 = (mu4.sum() - 3 * (mu2 ** 2).sum()) / mu2.sum() ** 2\n",
      "/Users/karan/anaconda3/envs/semiology-vis/lib/python3.9/site-packages/statsmodels/stats/proportion.py:307: RuntimeWarning: invalid value encountered in double_scalars\n",
      "  x = (n - mu.sum()) / np.sqrt(mu2.sum())\n"
     ]
    },
    {
     "ename": "Exception",
     "evalue": "Couldn't find a value for `c` that solves nu(c) <= 1 - alpha < nu(c + 1)",
     "output_type": "error",
     "traceback": [
      "\u001b[0;31m---------------------------------------------------------------------------\u001b[0m",
      "\u001b[0;31mException\u001b[0m                                 Traceback (most recent call last)",
      "\u001b[0;32m<ipython-input-271-c85290eb6659>\u001b[0m in \u001b[0;36m<module>\u001b[0;34m\u001b[0m\n\u001b[1;32m      1\u001b[0m \u001b[0mstandard_qr\u001b[0m \u001b[0;34m=\u001b[0m \u001b[0mcopy\u001b[0m\u001b[0;34m.\u001b[0m\u001b[0mdeepcopy\u001b[0m\u001b[0;34m(\u001b[0m\u001b[0msemiology_query_results\u001b[0m\u001b[0;34m)\u001b[0m\u001b[0;34m\u001b[0m\u001b[0;34m\u001b[0m\u001b[0m\n\u001b[0;32m----> 2\u001b[0;31m \u001b[0mstandard_qr\u001b[0m \u001b[0;34m=\u001b[0m \u001b[0mcalculate_proportions_and_ci\u001b[0m\u001b[0;34m(\u001b[0m\u001b[0mstandard_qr\u001b[0m\u001b[0;34m,\u001b[0m \u001b[0mregion_names\u001b[0m\u001b[0;34m,\u001b[0m \u001b[0mother_included\u001b[0m \u001b[0;34m=\u001b[0m \u001b[0;32mFalse\u001b[0m\u001b[0;34m,\u001b[0m \u001b[0mmerge_temporal\u001b[0m \u001b[0;34m=\u001b[0m \u001b[0;32mFalse\u001b[0m\u001b[0;34m,\u001b[0m \u001b[0;34m)\u001b[0m\u001b[0;34m\u001b[0m\u001b[0;34m\u001b[0m\u001b[0m\n\u001b[0m",
      "\u001b[0;32m<ipython-input-270-602a7d90fcd9>\u001b[0m in \u001b[0;36mcalculate_proportions_and_ci\u001b[0;34m(query_results, region_names, other_included, merge_temporal)\u001b[0m\n\u001b[1;32m     23\u001b[0m \u001b[0;34m\u001b[0m\u001b[0m\n\u001b[1;32m     24\u001b[0m         \u001b[0mproportions\u001b[0m \u001b[0;34m=\u001b[0m \u001b[0mget_proportions\u001b[0m\u001b[0;34m(\u001b[0m\u001b[0mby_zone\u001b[0m\u001b[0;34m)\u001b[0m\u001b[0;34m\u001b[0m\u001b[0;34m\u001b[0m\u001b[0m\n\u001b[0;32m---> 25\u001b[0;31m         \u001b[0mconfint\u001b[0m \u001b[0;34m=\u001b[0m \u001b[0mmultinomial_proportions_confint\u001b[0m\u001b[0;34m(\u001b[0m\u001b[0mby_zone\u001b[0m\u001b[0;34m,\u001b[0m \u001b[0malpha\u001b[0m\u001b[0;34m=\u001b[0m\u001b[0;36m0.05\u001b[0m\u001b[0;34m,\u001b[0m \u001b[0mmethod\u001b[0m\u001b[0;34m=\u001b[0m\u001b[0;34m'sison-glaz'\u001b[0m\u001b[0;34m)\u001b[0m \u001b[0;31m#sison-glaz throws error?!\u001b[0m\u001b[0;34m\u001b[0m\u001b[0;34m\u001b[0m\u001b[0m\n\u001b[0m\u001b[1;32m     26\u001b[0m         \u001b[0mci\u001b[0m \u001b[0;34m=\u001b[0m \u001b[0mconfint\u001b[0m\u001b[0;34m[\u001b[0m\u001b[0;34m:\u001b[0m\u001b[0;34m,\u001b[0m\u001b[0;36m1\u001b[0m\u001b[0;34m]\u001b[0m \u001b[0;34m-\u001b[0m \u001b[0mconfint\u001b[0m\u001b[0;34m[\u001b[0m\u001b[0;34m:\u001b[0m\u001b[0;34m,\u001b[0m\u001b[0;36m0\u001b[0m\u001b[0;34m]\u001b[0m\u001b[0;34m\u001b[0m\u001b[0;34m\u001b[0m\u001b[0m\n\u001b[1;32m     27\u001b[0m \u001b[0;34m\u001b[0m\u001b[0m\n",
      "\u001b[0;32m~/anaconda3/envs/semiology-vis/lib/python3.9/site-packages/statsmodels/stats/proportion.py\u001b[0m in \u001b[0;36mmultinomial_proportions_confint\u001b[0;34m(counts, alpha, method)\u001b[0m\n\u001b[1;32m    338\u001b[0m         \u001b[0;32mwhile\u001b[0m \u001b[0;32mnot\u001b[0m \u001b[0;34m(\u001b[0m\u001b[0mnuc\u001b[0m \u001b[0;34m<=\u001b[0m \u001b[0;34m(\u001b[0m\u001b[0;36m1\u001b[0m \u001b[0;34m-\u001b[0m \u001b[0malpha\u001b[0m\u001b[0;34m)\u001b[0m \u001b[0;34m<\u001b[0m \u001b[0mnucp1\u001b[0m\u001b[0;34m)\u001b[0m\u001b[0;34m:\u001b[0m\u001b[0;34m\u001b[0m\u001b[0;34m\u001b[0m\u001b[0m\n\u001b[1;32m    339\u001b[0m             \u001b[0;32mif\u001b[0m \u001b[0mc\u001b[0m \u001b[0;34m>\u001b[0m \u001b[0mn\u001b[0m\u001b[0;34m:\u001b[0m\u001b[0;34m\u001b[0m\u001b[0;34m\u001b[0m\u001b[0m\n\u001b[0;32m--> 340\u001b[0;31m                 raise Exception(\"Couldn't find a value for `c` that \"\n\u001b[0m\u001b[1;32m    341\u001b[0m                                 \"solves nu(c) <= 1 - alpha < nu(c + 1)\")\n\u001b[1;32m    342\u001b[0m             \u001b[0mc\u001b[0m \u001b[0;34m+=\u001b[0m \u001b[0;36m1\u001b[0m\u001b[0;34m\u001b[0m\u001b[0;34m\u001b[0m\u001b[0m\n",
      "\u001b[0;31mException\u001b[0m: Couldn't find a value for `c` that solves nu(c) <= 1 - alpha < nu(c + 1)"
     ]
    }
   ],
   "source": [
    "standard_qr = copy.deepcopy(semiology_query_results)\n",
    "standard_qr = calculate_proportions_and_ci(standard_qr, region_names, other_included = False, merge_temporal = False, )"
   ]
  },
  {
   "cell_type": "code",
   "execution_count": 280,
   "metadata": {},
   "outputs": [
    {
     "data": {
      "text/plain": [
       "array([[2.37251958e-02, 5.45807919e-02],\n",
       "       [4.58225638e-03, 2.20087732e-02],\n",
       "       [5.11364868e-03, 2.31456053e-02],\n",
       "       [1.45949039e-02, 4.03559414e-02],\n",
       "       [1.28468276e-03, 1.36287756e-02],\n",
       "       [3.36871381e-01, 4.15397287e-01],\n",
       "       [3.05112183e-02, 6.44770139e-02],\n",
       "       [2.08756352e-01, 2.78264628e-01],\n",
       "       [8.58827459e-05, 8.15467778e-03],\n",
       "       [2.18289782e-01, 2.88749891e-01]])"
      ]
     },
     "execution_count": 280,
     "metadata": {},
     "output_type": "execute_result"
    }
   ],
   "source": [
    "other_qr['Epigastric']['confint']"
   ]
  },
  {
   "cell_type": "code",
   "execution_count": 209,
   "metadata": {},
   "outputs": [
    {
     "name": "stderr",
     "output_type": "stream",
     "text": [
      "<ipython-input-35-94f6c7b79efe>:3: RuntimeWarning: invalid value encountered in double_scalars\n",
      "  proportions = [value/sum_values for value in values]\n"
     ]
    }
   ],
   "source": [
    "other_qr = copy.deepcopy(semiology_query_results)\n",
    "other_qr = calculate_proportions_and_ci(other_qr, region_names, other_included = True, merge_temporal = False)"
   ]
  },
  {
   "cell_type": "code",
   "execution_count": 210,
   "metadata": {},
   "outputs": [
    {
     "name": "stderr",
     "output_type": "stream",
     "text": [
      "<ipython-input-35-94f6c7b79efe>:3: RuntimeWarning: invalid value encountered in double_scalars\n",
      "  proportions = [value/sum_values for value in values]\n"
     ]
    }
   ],
   "source": [
    "temporal_other_qr = copy.deepcopy(semiology_query_results)\n",
    "temporal_other_qr = calculate_proportions_and_ci(temporal_other_qr, region_names, other_included = True, merge_temporal=True)"
   ]
  },
  {
   "cell_type": "code",
   "execution_count": 272,
   "metadata": {},
   "outputs": [],
   "source": [
    "def plot_semiology(query_result, ax=None):\n",
    "    x = query_result['proportions']\n",
    "    y = query_result['region_names']\n",
    "    xerr = query_result['confint'].T\n",
    "    sns.pointplot(x=x,\n",
    "                y=y,\n",
    "                join=False,\n",
    "                ci=False,\n",
    "                ax=ax,\n",
    "                color=\"#42847D\",\n",
    "                scale = 0.9)\n",
    "    ax.errorbar(x, y, xerr=xerr, ls='none', color='#42847D')\n",
    "    ax.title.set_text(query_result['semiology_name'])\n",
    "    ax.axvline(x=1/len(x),ymin=0,ymax=1,c=\"darksalmon\", linewidth=1, zorder=0, clip_on=False)"
   ]
  },
  {
   "cell_type": "code",
   "execution_count": null,
   "metadata": {},
   "outputs": [],
   "source": []
  },
  {
   "cell_type": "code",
   "execution_count": 291,
   "metadata": {},
   "outputs": [
    {
     "data": {
      "text/plain": [
       "Text(0.5,0.07,'P(localisation | semiology)')"
      ]
     },
     "execution_count": 291,
     "metadata": {},
     "output_type": "execute_result"
    },
    {
     "data": {
      "image/png": "[encoded data removed]",
      "text/plain": [
       "<Figure size 720x720 with 9 Axes>"
      ]
     },
     "metadata": {},
     "output_type": "display_data"
    }
   ],
   "source": [
    "sns.set_style(\"darkgrid\")\n",
    "\n",
    "fig, axs = plt.subplots(3, 3, sharex=True, sharey=True, figsize=(10, 10))\n",
    "for i, semiology in enumerate(top_10_semiologies[:9]):\n",
    "    coord = divmod(i, 3)\n",
    "    plot_semiology(other_qr[semiology], axs[coord[0], coord[1]])\n",
    "    \n",
    "fig.text(0.5, 0.07, 'P(localisation | semiology)', ha='center', fontsize=12)\n",
    "# plt.vlines(1/55, 0, 1)"
   ]
  },
  {
   "cell_type": "code",
   "execution_count": 236,
   "metadata": {},
   "outputs": [
    {
     "data": {
      "text/plain": [
       "17"
      ]
     },
     "execution_count": 236,
     "metadata": {},
     "output_type": "execute_result"
    }
   ],
   "source": [
    "n_top_level_lobes"
   ]
  },
  {
   "cell_type": "code",
   "execution_count": null,
   "metadata": {},
   "outputs": [],
   "source": [
    "regions_of_interest = ['Mesial Temporal',\n",
    "                         'Lateral Temporal',\n",
    "                         'Anterior (temporal pole)',\n",
    "                         'Posterior Temporal',\n",
    "                         'TL',\n",
    "                         'FL',\n",
    "                         'PL',\n",
    "                         'OL',\n",
    "                         'INSULA',\n",
    "                         'CING',\n",
    "                        ]\n",
    "# regions_of_interest.sort()\n",
    "temporal_regions = ['Anterior (temporal pole)',\n",
    " 'Lateral Temporal',\n",
    " 'Mesial Temporal',\n",
    " 'Posterior Temporal']\n",
    "\n"
   ]
  },
  {
   "cell_type": "code",
   "execution_count": null,
   "metadata": {},
   "outputs": [],
   "source": [
    "all_regions = \"\"\"TL\n",
    "Anterior (temporal pole)\n",
    "Lateral Temporal\n",
    "STG (includes Transverse Temporal Gyrus, Both Planum)\n",
    "Transverse Temporal Gyrus (Heschl's, BA 41,  42, ?opercula)\n",
    "Planum Temporale\n",
    "Planum Polare\n",
    "MTG\n",
    "ITG\n",
    "Mesial Temporal\n",
    "Ant Mesial Temporal\n",
    "Post Mesial Temporal\n",
    "Enthorinal Cortex\n",
    "Fusiform\n",
    "AMYGD\n",
    "PARAHIPPOCAMPUS\n",
    "HIPPOCAMPUS\n",
    "Posterior Temporal\n",
    "Basal (including Fusiform OTMG)\n",
    "OTMG (fusiform)\n",
    "FL\n",
    "frontal pole\n",
    "Pre-frontal (BA 8, 9, 10, 11, 12, 13, 14, 24, 25, 32, 44, 45, 46, 47)\n",
    "DL-PFC (BA 46) (include subgroups BA 9, 8, 10 - frontopolar/anterior prefrontal)\n",
    "gyrus rectus (basal = gyrus rectus and OFC)\n",
    "Orbito-frontal (BA 10, 11, 12/47) (basal = gyrus rectus and OFC)\n",
    "Post OF\n",
    "Lat OF\n",
    "Med OF\n",
    "Medial Frontal (include medial premotor and its constituents as its subsets)\n",
    "Primary Motor Cortex (Pre-central gyrus, BA 4, Rolandic)\n",
    "medial precentral\n",
    "Rolandic Operculum (low BA4)\n",
    "SFG (F1)\n",
    "Med SFG\n",
    "Post SFG\n",
    "Ant SFG\n",
    "MFG (F2)\n",
    "Ant MFG\n",
    "Mid MFG\n",
    "Post MFG\n",
    "Pars Triangularis (subgroup IFG)\n",
    "Pars opercularis (BA 44)(subgroup IFG, ?opercula)\n",
    "Premotor frontal (posterior frontal)\n",
    "Ant Premotor (BA 8, frontal-eye-fields)\n",
    "Medial Premotor (including pre SMA)\n",
    "SMA (pre-central gyrus; posterior SFG, MFG)\n",
    "SSMA\n",
    "CING\n",
    "Cingulum (WM)\n",
    "Ant Cing (frontal, genu)\n",
    "Dorsal Ant Cing (BA 32)\n",
    "Middle Cingulate\n",
    "Post Cing\n",
    "Isthmus\n",
    "PL\n",
    "Primary Sensory Cortex (post-central gyrus)\n",
    "medial anterior parietal\n",
    "Sup. pariet. lobule\n",
    "Precuneus (medial post sup parietal lobule)\n",
    "Inferior Parietal Lobule\n",
    "Supramarg gyrus (post part of parietal operculum)\n",
    "Angular gyrus (BA 39)\n",
    "parietal operculum (ceiling of secondary somatosensory cortex)\n",
    "OL\n",
    "Mesial Occipital\n",
    "Lingual gyrus  (medial and basal)\n",
    "Cuneus\n",
    "Lateral Occipital (SOG, IOG, LOG)\n",
    "Posterior Occipital Gyrus\n",
    "Superior Occipital Gyrus\n",
    "INSULA\n",
    "Ant Ins\n",
    "Anterior Short Gyrus\n",
    "Middle Short Gyrus\n",
    "Post short gyrus\n",
    "Precentral gyrus\n",
    "Postcentral gyrus\n",
    "Posterior long gyrus\n",
    "Hypothalamus\n",
    "Sub-Callosal Cortex\n",
    "Cerebellum\n",
    "Hemisphere\n",
    "Vermis\n",
    "FT\n",
    "TO\n",
    "TP\n",
    "FTP\n",
    "TPO Junction\n",
    "PO\n",
    "FP\n",
    "Perisylvian\"\"\".splitlines()\n",
    "\n",
    "all_regions += ['''IFG (F3)\n",
    "(BA 44,45,47)''',\n",
    "'''Lateral Premotor\n",
    "(BA 6)''',\n",
    "'''Pars orbitalis (subgroup of IFG)\n",
    "(BA 47)''']\n",
    "# '''Pars opercularis (BA 44)(subgroup IFG, ?opercula)'''"
   ]
  },
  {
   "cell_type": "code",
   "execution_count": null,
   "metadata": {},
   "outputs": [],
   "source": [
    "other_regions = set(all_regions) - set(regions_of_interest)\n",
    "other_regions = list(other_regions)\n",
    "\n",
    "regions_of_interest_minus_temporal = set(regions_of_interest) - set(temporal_regions)\n",
    "regions_of_interest_minus_temporal = list(regions_of_interest_minus_temporal)"
   ]
  }
 ],
 "metadata": {
  "kernelspec": {
   "display_name": "Python 3",
   "language": "python",
   "name": "python3"
  },
  "language_info": {
   "codemirror_mode": {
    "name": "ipython",
    "version": 3
   },
   "file_extension": ".py",
   "mimetype": "text/x-python",
   "name": "python",
   "nbconvert_exporter": "python",
   "pygments_lexer": "ipython3",
   "version": "3.9.1"
  }
 },
 "nbformat": 4,
 "nbformat_minor": 4
}
